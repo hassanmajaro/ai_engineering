{
 "cells": [
  {
   "cell_type": "markdown",
   "id": "70017e2d",
   "metadata": {},
   "source": [
    "## Linear Algebra with Numpy"
   ]
  },
  {
   "cell_type": "markdown",
   "id": "616408a3",
   "metadata": {},
   "source": [
    "**What is Linear Algebra?** Linear algebra is the branch of mathematics that deals with vectors and matrices - the main tools for handling data in machine learing.\n",
    "- **Why it matters in ML**\n",
    "    * A dataset = matrix (rows = samples, columns = features).\n",
    "    * An image = matrix of pixel values.\n",
    "    * Predictions, weights, activations = all use vectors/matrices"
   ]
  },
  {
   "cell_type": "markdown",
   "id": "e810c972",
   "metadata": {},
   "source": [
    "**Key Applications in ML**\n",
    "* Feature representation (data points as vectors)\n",
    "* Transformations and dimensionality reduction\n",
    "* Neural network operations\n",
    "* Optimization algorithms"
   ]
  },
  {
   "cell_type": "code",
   "execution_count": null,
   "id": "3498a0d6",
   "metadata": {},
   "outputs": [],
   "source": [
    "import numpy as np \n",
    "import matplotlib.pyplot as plt"
   ]
  },
  {
   "cell_type": "markdown",
   "id": "d3e09aa0",
   "metadata": {},
   "source": [
    "### Vectors"
   ]
  },
  {
   "cell_type": "markdown",
   "id": "1f65ffad",
   "metadata": {},
   "source": [
    "**What is a Vector?**\n",
    "* A vector is simply a list of numbers arranged in order. Think of it like a row of lockers, each holding a value (e.g., age, weight, score, etc.).\n",
    "* Imagine you're holding a shopping list.\n",
    "* [\"apples\", \"bananas\", \"bread\"] -> text list\n",
    "* [2, 5, 1] -> quantities -> This is like a vector!"
   ]
  },
  {
   "cell_type": "markdown",
   "id": "392419d9",
   "metadata": {},
   "source": [
    "**Creating Vectors**"
   ]
  },
  {
   "cell_type": "code",
   "execution_count": null,
   "id": "0a911cd6",
   "metadata": {},
   "outputs": [],
   "source": [
    "# install numpy if not already installed\n",
    "# pip install numpy\n",
    "\n",
    "# importing numpy for numerical operations\n",
    "\n",
    "import numpy as np"
   ]
  },
  {
   "cell_type": "code",
   "execution_count": null,
   "id": "05c6f9f8",
   "metadata": {},
   "outputs": [],
   "source": [
    "# A row vector (1D)\n",
    "v1 = np.array([10, 20, 30])\n",
    "print(\"Row vector:\", v1)\n",
    "\n",
    "# A column vector (2D with shape 3x1)\n",
    "v2 = np.array([[10], [20], [30]])\n",
    "print(\"Column Vector:\\n\", v2)"
   ]
  },
  {
   "cell_type": "markdown",
   "id": "dffbaa0c",
   "metadata": {},
   "source": [
    "**Vector Addition**\n",
    "* When you add vectors, you add each pair of elements\n",
    "* Bag A = [2, 3]\n",
    "* Bag B = [1, 5]\n",
    "* Total Items = [2 + 1, 3 + 5] = [3, 8]"
   ]
  },
  {
   "cell_type": "code",
   "execution_count": null,
   "id": "4f0f46ab",
   "metadata": {},
   "outputs": [],
   "source": [
    "a = np.array([2, 3])\n",
    "b = np.array([1, 5])\n",
    "print(\"a + b =\", a + b)"
   ]
  },
  {
   "cell_type": "code",
   "execution_count": null,
   "id": "54880fd8",
   "metadata": {},
   "outputs": [],
   "source": [
    "# Vector addition\n",
    "a = np.array([1, 2, 3])\n",
    "b = np.array([4, 5, 6])\n",
    "\n",
    "vector_sum = a + b \n",
    "print(f\"Vector a: {a}\")\n",
    "print(f\"Vector b: {b}\")\n",
    "print(f\"a + b: {vector_sum}\")\n",
    "\n",
    "# Geometric interpretation in 2D\n",
    "a_2d = np.array([2, 3])\n",
    "b_2d = np.array([1, 2])\n",
    "sum_2d = a_2d + b_2d\n",
    "\n",
    "plt.figure(figsize=(8, 6))\n",
    "plt.quiver(0, 0, a_2d[0], a_2d[1], angles='xy', scale_units='xy', scale=1, color='red', width=0.005)"
   ]
  }
 ],
 "metadata": {
  "language_info": {
   "name": "python"
  }
 },
 "nbformat": 4,
 "nbformat_minor": 5
}
