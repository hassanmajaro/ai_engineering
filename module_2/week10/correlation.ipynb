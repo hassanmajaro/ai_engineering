{
 "cells": [
  {
   "cell_type": "markdown",
   "id": "e832638b",
   "metadata": {},
   "source": [
    "# **1.  Correlation**\n",
    "\n",
    "Correlation is a statistical measure that shows how two variables move together. It tells us\n",
    "\n",
    "1.  Direction - Do they move in the same direction (positive) or opposite (negative)?\n",
    "2.  Strength - How strongly they are related (weak, moderate, or strong).\n",
    "\n",
    "The most common measure is **Pearson's correlation coefficient (`r`)**.\n",
    "\n",
    "`r` ranges between -1 and +1.\n",
    "\n",
    "**Types of Correlation**\n",
    "\n",
    "**Positive Correlation (r > 0)**\n",
    "-   As one variable increases, the other also increases.\n",
    "-   Example: More study hours - Higher exam scores."
   ]
  },
  {
   "cell_type": "markdown",
   "id": "c1ad739a",
   "metadata": {},
   "source": [
    "![image.png](attachment:image.png)"
   ]
  },
  {
   "cell_type": "markdown",
   "id": "8f133ffa",
   "metadata": {},
   "source": [
    "**More Examples of Positive Correlation**\n",
    "1.  Study hours ⬆ Exam score ⬆\n",
    "2.  Sleep hours ⬆ Concentration ⬆\n",
    "3.  Class attendance ⬆ Understanding ⬆\n",
    "4.  Practice questions ⬆ Test performance ⬆\n",
    "5.  Participation in group study ⬆ Grades ⬆\n",
    "6.  Teacher feedback ⬆ Student improvement ⬆\n",
    "7.  Number of revision sessions ⬆ Retention ⬆\n",
    "8.  Motivation ⬆ Academic achievement ⬆\n",
    "9.  Lecture note reviews ⬆ Recall in exams ⬆\n",
    "10. Library hours ⬆ GPA ⬆"
   ]
  },
  {
   "cell_type": "markdown",
   "id": "61f4a43f",
   "metadata": {},
   "source": [
    "**Negative Correlation (r < 0>)**\n",
    "-   As one variable increases, the other decreases.\n",
    "-   Example: More part time job hours - Lower exam scores"
   ]
  },
  {
   "cell_type": "markdown",
   "id": "1a808014",
   "metadata": {},
   "source": [
    "**More Examples of Negative Correlation**\n",
    "\n",
    "1. Part-time job hours ⬆  Exam score ⬇\n",
    "2. Extracurricular hours ⬆  Study time ⬇\n",
    "3. Screen time (TV/social media) ⬆  Academic performance ⬇\n",
    "4. Stress level ⬆  Sleep quality ⬇\n",
    "5. Absenteeism ⬆  Grades ⬇\n",
    "6. Late-night gaming ⬆  Morning alertness ⬇\n",
    "7. Procrastination ⬆  Assignment quality ⬇\n",
    "8. Fatigue ⬆  Productivity ⬇\n",
    "9. Alcohol consumption ⬆  Cognitive performance ⬇\n",
    "10. Distractions in study ⬆  Exam score ⬇"
   ]
  },
  {
   "cell_type": "markdown",
   "id": "811c7f18",
   "metadata": {},
   "source": [
    "**Zero/No Correlation (r ~~ 0)**\n",
    "-   No clear relationship\n",
    "-   Example: Shoe size - Exam scores."
   ]
  },
  {
   "cell_type": "markdown",
   "id": "f36be5c3",
   "metadata": {},
   "source": [
    "**Interpreting the Strength using the correlation Coefficient**\n",
    "`0.0 - 0.2 Very weak (almost no relationship)`\n",
    "\n",
    "`02. - 0.4 Weak`\n",
    "\n",
    "`0.4 - 0.6 Moderate`\n",
    "\n",
    "`0.6 - 0.8 Strong`\n",
    "\n",
    "`0.8 - 1.0 -> Very strong`\n",
    "\n",
    "Example: If correlation between study hours and scores is 0.85, it's a very strong positive correlation."
   ]
  },
  {
   "cell_type": "markdown",
   "id": "80eabfab",
   "metadata": {},
   "source": [
    "**What Correlation Does NOT Mean**\n",
    "\n",
    "`Correlation != Causation`\n",
    "\n",
    "Just because two things move together doesn't mean one causes the other.\n",
    "\n",
    "**Misleading Correlation**\n",
    "\n",
    "Ice cream sales ↑ and drowning deaths ↑ in summer\n",
    "-   They are correlated.\n",
    "-   But ice cream doesn't cause drowning.\n",
    "\n",
    "The real reason is temperature (summer season people tend to go for swimming and lick more icecreams).\n",
    "\n",
    "This leads us to two key issue, which are;\n",
    "1.  Spurious Correlation\n",
    "2.  Confounding Variables\n",
    "\n",
    "**Spurious Correlation**\n",
    "A correlation that looks real but happens by coincidence or due to a hidden factor. \n",
    "\n",
    "Example: Worldwide cheese consumption correlates with the number of people who died by bedsheet entanglement. (completely nonsense, but statistically correlated)."
   ]
  },
  {
   "cell_type": "markdown",
   "id": "08fbe878",
   "metadata": {},
   "source": [
    "**Correlation does not equals causation**"
   ]
  },
  {
   "cell_type": "markdown",
   "id": "54d4d46c",
   "metadata": {},
   "source": [
    "**Confounding Variables**\n",
    "\n",
    "A third variable that influences both the independent and dependent variable. \n",
    "\n",
    "Example:\n",
    "\n",
    "Students with higher motivation both study more and score higher.\n",
    "\n",
    "So it may look like study hours led to higher score, but motivation is the confounder"
   ]
  },
  {
   "cell_type": "markdown",
   "id": "480853f7",
   "metadata": {},
   "source": [
    "**Why Start with Correlation Before Regression**\n",
    "\n",
    "Correlation is the first check, \"Are these two variables related at all?\"\n",
    "\n",
    "If yes, regression goes further, \"By how much? Is it significant? What happens when we add other factors?\""
   ]
  },
  {
   "cell_type": "markdown",
   "id": "6ce8fbba",
   "metadata": {},
   "source": [
    "**Correlation in Codes**"
   ]
  },
  {
   "cell_type": "code",
   "execution_count": 1,
   "id": "8ac880c3",
   "metadata": {},
   "outputs": [],
   "source": [
    "import pandas as pd \n",
    "import numpy as np\n",
    "import matplotlib.pyplot as plt\n",
    "import seaborn as sns \n",
    "\n",
    "# set seed for reproducibility\n",
    "np.random.seed(234)"
   ]
  },
  {
   "cell_type": "code",
   "execution_count": 2,
   "id": "33d3b5b8",
   "metadata": {},
   "outputs": [],
   "source": [
    "# Create synthetic dataset\n",
    "students = 40\n",
    "study_hours = np.random.randint(1, 10, students)        # 1 to 9 hours of study\n",
    "job_hours = np.random.randint(0, 15, students)      # 0 to 14 hours job\n",
    "sleep_hours = np.random.randint(4, 9, students)     # 4 to 8 hours sleep\n",
    "extracurricular = np.random.randint(0, 6, students)     # 0 to 5 hrs activities\n",
    "\n",
    "# exam score: positively influenced by study & sleep, negatively by job & extra activities\n",
    "exam_score = (40\n",
    "              + 5 * study_hours       # strong positive\n",
    "              + 2 * sleep_hours       # mild positive\n",
    "              - 3 * job_hours         # strong negative\n",
    "              - 1 * extracurricular   # mild negative\n",
    "              + np.random.randint(-5, 5, students))     # noise\n",
    "\n",
    "data = pd.DataFrame({\n",
    "    'Study Hours': study_hours,\n",
    "    'Job Hours': job_hours,\n",
    "    'Sleep Hours': sleep_hours,\n",
    "    'Extracurricular Hours': extracurricular,\n",
    "    'Exam Score': exam_score\n",
    "})"
   ]
  },
  {
   "cell_type": "code",
   "execution_count": 3,
   "id": "1cdb3a7a",
   "metadata": {},
   "outputs": [
    {
     "data": {
      "text/html": [
       "<div>\n",
       "<style scoped>\n",
       "    .dataframe tbody tr th:only-of-type {\n",
       "        vertical-align: middle;\n",
       "    }\n",
       "\n",
       "    .dataframe tbody tr th {\n",
       "        vertical-align: top;\n",
       "    }\n",
       "\n",
       "    .dataframe thead th {\n",
       "        text-align: right;\n",
       "    }\n",
       "</style>\n",
       "<table border=\"1\" class=\"dataframe\">\n",
       "  <thead>\n",
       "    <tr style=\"text-align: right;\">\n",
       "      <th></th>\n",
       "      <th>Study Hours</th>\n",
       "      <th>Job Hours</th>\n",
       "      <th>Sleep Hours</th>\n",
       "      <th>Extracurricular Hours</th>\n",
       "      <th>Exam Score</th>\n",
       "    </tr>\n",
       "  </thead>\n",
       "  <tbody>\n",
       "    <tr>\n",
       "      <th>0</th>\n",
       "      <td>9</td>\n",
       "      <td>10</td>\n",
       "      <td>4</td>\n",
       "      <td>2</td>\n",
       "      <td>56</td>\n",
       "    </tr>\n",
       "    <tr>\n",
       "      <th>1</th>\n",
       "      <td>5</td>\n",
       "      <td>9</td>\n",
       "      <td>5</td>\n",
       "      <td>1</td>\n",
       "      <td>46</td>\n",
       "    </tr>\n",
       "    <tr>\n",
       "      <th>2</th>\n",
       "      <td>2</td>\n",
       "      <td>0</td>\n",
       "      <td>6</td>\n",
       "      <td>3</td>\n",
       "      <td>57</td>\n",
       "    </tr>\n",
       "    <tr>\n",
       "      <th>3</th>\n",
       "      <td>4</td>\n",
       "      <td>10</td>\n",
       "      <td>6</td>\n",
       "      <td>5</td>\n",
       "      <td>37</td>\n",
       "    </tr>\n",
       "    <tr>\n",
       "      <th>4</th>\n",
       "      <td>8</td>\n",
       "      <td>8</td>\n",
       "      <td>7</td>\n",
       "      <td>1</td>\n",
       "      <td>69</td>\n",
       "    </tr>\n",
       "  </tbody>\n",
       "</table>\n",
       "</div>"
      ],
      "text/plain": [
       "   Study Hours  Job Hours  Sleep Hours  Extracurricular Hours  Exam Score\n",
       "0            9         10            4                      2          56\n",
       "1            5          9            5                      1          46\n",
       "2            2          0            6                      3          57\n",
       "3            4         10            6                      5          37\n",
       "4            8          8            7                      1          69"
      ]
     },
     "execution_count": 3,
     "metadata": {},
     "output_type": "execute_result"
    }
   ],
   "source": [
    "data.head()"
   ]
  },
  {
   "cell_type": "code",
   "execution_count": 4,
   "id": "c3643691",
   "metadata": {},
   "outputs": [
    {
     "data": {
      "text/html": [
       "<div>\n",
       "<style scoped>\n",
       "    .dataframe tbody tr th:only-of-type {\n",
       "        vertical-align: middle;\n",
       "    }\n",
       "\n",
       "    .dataframe tbody tr th {\n",
       "        vertical-align: top;\n",
       "    }\n",
       "\n",
       "    .dataframe thead th {\n",
       "        text-align: right;\n",
       "    }\n",
       "</style>\n",
       "<table border=\"1\" class=\"dataframe\">\n",
       "  <thead>\n",
       "    <tr style=\"text-align: right;\">\n",
       "      <th></th>\n",
       "      <th>Study Hours</th>\n",
       "      <th>Job Hours</th>\n",
       "      <th>Sleep Hours</th>\n",
       "      <th>Extracurricular Hours</th>\n",
       "      <th>Exam Score</th>\n",
       "    </tr>\n",
       "  </thead>\n",
       "  <tbody>\n",
       "    <tr>\n",
       "      <th>Study Hours</th>\n",
       "      <td>1.000000</td>\n",
       "      <td>-0.136551</td>\n",
       "      <td>-0.006383</td>\n",
       "      <td>-0.114442</td>\n",
       "      <td>0.694048</td>\n",
       "    </tr>\n",
       "    <tr>\n",
       "      <th>Job Hours</th>\n",
       "      <td>-0.136551</td>\n",
       "      <td>1.000000</td>\n",
       "      <td>0.188992</td>\n",
       "      <td>0.209991</td>\n",
       "      <td>-0.782525</td>\n",
       "    </tr>\n",
       "    <tr>\n",
       "      <th>Sleep Hours</th>\n",
       "      <td>-0.006383</td>\n",
       "      <td>0.188992</td>\n",
       "      <td>1.000000</td>\n",
       "      <td>0.158029</td>\n",
       "      <td>-0.035653</td>\n",
       "    </tr>\n",
       "    <tr>\n",
       "      <th>Extracurricular Hours</th>\n",
       "      <td>-0.114442</td>\n",
       "      <td>0.209991</td>\n",
       "      <td>0.158029</td>\n",
       "      <td>1.000000</td>\n",
       "      <td>-0.276837</td>\n",
       "    </tr>\n",
       "    <tr>\n",
       "      <th>Exam Score</th>\n",
       "      <td>0.694048</td>\n",
       "      <td>-0.782525</td>\n",
       "      <td>-0.035653</td>\n",
       "      <td>-0.276837</td>\n",
       "      <td>1.000000</td>\n",
       "    </tr>\n",
       "  </tbody>\n",
       "</table>\n",
       "</div>"
      ],
      "text/plain": [
       "                       Study Hours  Job Hours  Sleep Hours  \\\n",
       "Study Hours               1.000000  -0.136551    -0.006383   \n",
       "Job Hours                -0.136551   1.000000     0.188992   \n",
       "Sleep Hours              -0.006383   0.188992     1.000000   \n",
       "Extracurricular Hours    -0.114442   0.209991     0.158029   \n",
       "Exam Score                0.694048  -0.782525    -0.035653   \n",
       "\n",
       "                       Extracurricular Hours  Exam Score  \n",
       "Study Hours                        -0.114442    0.694048  \n",
       "Job Hours                           0.209991   -0.782525  \n",
       "Sleep Hours                         0.158029   -0.035653  \n",
       "Extracurricular Hours               1.000000   -0.276837  \n",
       "Exam Score                         -0.276837    1.000000  "
      ]
     },
     "execution_count": 4,
     "metadata": {},
     "output_type": "execute_result"
    }
   ],
   "source": [
    "# lets compute the correlation coefficients for each data feature\n",
    "\n",
    "corr_efficients = data.corr()\n",
    "corr_efficients"
   ]
  },
  {
   "cell_type": "code",
   "execution_count": 5,
   "id": "86b0dbe9",
   "metadata": {},
   "outputs": [
    {
     "data": {
      "text/plain": [
       "Index(['Study Hours', 'Job Hours', 'Sleep Hours', 'Extracurricular Hours',\n",
       "       'Exam Score'],\n",
       "      dtype='object')"
      ]
     },
     "execution_count": 5,
     "metadata": {},
     "output_type": "execute_result"
    }
   ],
   "source": [
    "data.columns"
   ]
  },
  {
   "cell_type": "code",
   "execution_count": 6,
   "id": "4f7c56ea",
   "metadata": {},
   "outputs": [],
   "source": [
    "#lets plot the relationship on a scatter plot"
   ]
  },
  {
   "cell_type": "code",
   "execution_count": 11,
   "id": "a40b1460",
   "metadata": {},
   "outputs": [
    {
     "data": {
      "image/png": "[encoded data removed]",
      "text/plain": [
       "<Figure size 1200x500 with 2 Axes>"
      ]
     },
     "metadata": {},
     "output_type": "display_data"
    }
   ],
   "source": [
    "#compute correlation matrix first (this defines 'corr')\n",
    "corr = data[['Study Hours', 'Job Hours', 'Exam Score']].corr()\n",
    "\n",
    "# plot: positive and negative examples\n",
    "\n",
    "plt.figure(figsize = (12, 5))\n",
    "\n",
    "# positive correlation: study vs score\n",
    "plt.subplot(1, 2, 1)\n",
    "sns.scatterplot(x = 'Study Hours', y = 'Exam Score', data = data, color = 'blue')\n",
    "plt.title(\"Positive Correlation:\\nStudy Hours vs Exam Score\", fontsize = 14)\n",
    "plt.xlabel(\"Study Hours\")\n",
    "plt.ylabel(\"Exam Score\")\n",
    "plt.text(2, max(data['Exam Score'])-5,\n",
    "         f\"r = {corr.loc['Study Hours', 'Exam Score']:.2f}\",\n",
    "         fontsize = 12, color = \"darkred\",\n",
    "         bbox = dict(facecolor = 'white', edgecolor = 'red'))\n",
    "plt.grid(True, linestyle = \"--\", alpha = 0.6)\n",
    "\n",
    "# negative correlation: job vs score\n",
    "plt.subplot(1, 2, 2)\n",
    "sns.scatterplot(x = 'Job Hours', y = 'Exam Score', data = data, color = 'green')\n",
    "plt.title(\"Negative Correlation:\\nJob Hours vs Exam Score\", fontsize = 14)\n",
    "plt.xlabel(\"Part-Tiime Job Hours\")\n",
    "plt.ylabel(\"Exam Score\")\n",
    "plt.text(5, max(data['Exam Score'])-5,\n",
    "         f\"r = {corr.loc['Job Hours', 'Exam Score']:.2f}\",  #fixed here\n",
    "         fontsize = 12, color = \"darkred\",\n",
    "         bbox = dict(facecolor = 'white', edgecolor = 'red'))\n",
    "plt.grid(True, linestyle = \"--\", alpha = 0.6)\n",
    "\n",
    "plt.tight_layout()\n",
    "plt.show()"
   ]
  },
  {
   "cell_type": "code",
   "execution_count": null,
   "id": "19a1bf42",
   "metadata": {},
   "outputs": [],
   "source": [
    "# predictions = model.predict(X)"
   ]
  },
  {
   "cell_type": "markdown",
   "id": "8feb6732",
   "metadata": {},
   "source": [
    "# **Regression**\n",
    "\n",
    "Correlation shows whether variables move together while regression expalins how much and how significantly they more together.\n",
    "\n",
    "Regression analysis is a statistical method used to:\n",
    "\n",
    "1.  Quantify the relationship between a dependent variable (the outcome) and one or more independent variables (the predictors).\n",
    "2.  Predict the value of the dependent variable based on the values of the independent variables.\n",
    "\n",
    "-   Mathematically, it is about finding the best-fitting line through data points.\n",
    "\n",
    "Y = Y = β0 +  β1x + ε\n",
    "\n",
    "Y is dependent (outcome) variable (e.g., exam score)\n",
    "\n",
    "X is independent (predictor) variable (e.g., study hours)\n",
    "\n",
    "β₀ is intercept (value of Y when X = 0)\n",
    "\n",
    "β₁ is slope or coefficient (how much Y changes when X increases by 1 unit) in simple terms it measure how much Y changes with X\n",
    "\n",
    "ε is error term (random noise not explained by X)\n",
    "\n",
    "Regression doesn't just say \"studying and scores are related\" (that's correlation). It says \"each hour of studying is associated with a 5-point increase in scores\" - giving you actionable, quantified insights."
   ]
  },
  {
   "cell_type": "markdown",
   "id": "5dc32b95",
   "metadata": {},
   "source": [
    "Lets put it in plain English\n",
    "\n",
    "If we plot students' study hours vs exam scores:\n",
    "\n",
    "_We may see that as study hours increase, exam scores increase._\n",
    "\n",
    "-   Regression fits a line through the data points that best describes this upward trend.\n",
    "-   The slope () tells us how strong the relationship is in actual units (not just direction like correlation).\n",
    "-   The slope says: \"For each extra hour studied, scores increase by 5 points\" (precise units)"
   ]
  },
  {
   "cell_type": "markdown",
   "id": "96e87f9e",
   "metadata": {},
   "source": [
    "| **Component** | **Name** | **What it means** | **Example** |\n",
    "|---------------|----------|-------------------|-------------|\n",
    "| **Y** | Dependent variable | The outcome you're trying to predict | Exam Score |\n",
    "| **X** | Independent variable | The factor you think affects the outcome | Study Hours |\n",
    "| **β₀** | Intercept | Starting value of Y when X = 0 | Your baseline score with zero study |\n",
    "| **β₁** | Slope (coefficient) | How much Y changes for each 1-unit increase in X | \"Each hour of study increases score by 5 points\"\n",
    "| **ε** | Error term | Random variation not explained by X | Natural day-to-day fluctuations |"
   ]
  },
  {
   "cell_type": "markdown",
   "id": "38eba4e0",
   "metadata": {},
   "source": [
    "**Types of Regression**\n",
    "1.  Simple Linear Regression - One independent variable\n",
    "    -   `Y = β0 ​+ β1​X + ε`\n",
    "2.  Multiple Linear Regression - Two or more independent variables\n",
    "    -   `Y =β0 ​+ β1​X1 ​+ β2​X2​ + ⋯ + ε`"
   ]
  },
  {
   "cell_type": "markdown",
   "id": "494ac70c",
   "metadata": {},
   "source": [
    "**OLS (Ordinary Least Squares)**\n",
    "\n",
    "OLS finds the best-fit line by minimizing the sum of squared errors, it is said to be The Engine Behind Regression.\n",
    "\n",
    "It is computed as;\n",
    "\n",
    "`Residual or error = (Yactual - Ypredicted)**2`\n",
    "\n",
    "-   It ensures the line we draw is the one with the smallest total deviation from all the data points"
   ]
  },
  {
   "cell_type": "markdown",
   "id": "0d26c6a3",
   "metadata": {},
   "source": [
    "**Interpreting Regression Results**\n",
    "\n",
    "| **Column** | **Meaning** | **How to Explain** |\n",
    "|------------|-------------|--------------------|\n",
    "| **Coefficient** | Average change in Y when X increases by 1 (holding others constant) | \"Every extra study hour increases score by 5 points.\" |\n",
    "| **Std. Error** | How uncertain our coefficient estimate is | Smaller = more precise |\n",
    "| **T-Statistic** | Coefficient / Std. Error | Largest = stronger evidence the effect is real |\n",
    "| **p-Value** | Probability that the effect is due to chance | p < 0.05 = statistically significant |\n",
    "| **Confidence Interval** | Range where the true coefficient likely lies | Narrow = more confidence |\n",
    "| **R-squared** | % of variation in Y explained by Xs | Closer to 1 = better model |"
   ]
  },
  {
   "cell_type": "markdown",
   "id": "024a0469",
   "metadata": {},
   "source": [
    "**Simple Linear Regression (SLR)**\n",
    "\n",
    "We want to see how study hours affect exam scores using Simple Linear Regression."
   ]
  },
  {
   "cell_type": "code",
   "execution_count": 12,
   "id": "e6f975d7",
   "metadata": {},
   "outputs": [
    {
     "data": {
      "text/html": [
       "<div>\n",
       "<style scoped>\n",
       "    .dataframe tbody tr th:only-of-type {\n",
       "        vertical-align: middle;\n",
       "    }\n",
       "\n",
       "    .dataframe tbody tr th {\n",
       "        vertical-align: top;\n",
       "    }\n",
       "\n",
       "    .dataframe thead th {\n",
       "        text-align: right;\n",
       "    }\n",
       "</style>\n",
       "<table border=\"1\" class=\"dataframe\">\n",
       "  <thead>\n",
       "    <tr style=\"text-align: right;\">\n",
       "      <th></th>\n",
       "      <th>Study Hours</th>\n",
       "      <th>Job Hours</th>\n",
       "      <th>Sleep Hours</th>\n",
       "      <th>Extracurricular Hours</th>\n",
       "      <th>Exam Score</th>\n",
       "    </tr>\n",
       "  </thead>\n",
       "  <tbody>\n",
       "    <tr>\n",
       "      <th>0</th>\n",
       "      <td>9</td>\n",
       "      <td>10</td>\n",
       "      <td>4</td>\n",
       "      <td>2</td>\n",
       "      <td>56</td>\n",
       "    </tr>\n",
       "    <tr>\n",
       "      <th>1</th>\n",
       "      <td>5</td>\n",
       "      <td>9</td>\n",
       "      <td>5</td>\n",
       "      <td>1</td>\n",
       "      <td>46</td>\n",
       "    </tr>\n",
       "    <tr>\n",
       "      <th>2</th>\n",
       "      <td>2</td>\n",
       "      <td>0</td>\n",
       "      <td>6</td>\n",
       "      <td>3</td>\n",
       "      <td>57</td>\n",
       "    </tr>\n",
       "    <tr>\n",
       "      <th>3</th>\n",
       "      <td>4</td>\n",
       "      <td>10</td>\n",
       "      <td>6</td>\n",
       "      <td>5</td>\n",
       "      <td>37</td>\n",
       "    </tr>\n",
       "    <tr>\n",
       "      <th>4</th>\n",
       "      <td>8</td>\n",
       "      <td>8</td>\n",
       "      <td>7</td>\n",
       "      <td>1</td>\n",
       "      <td>69</td>\n",
       "    </tr>\n",
       "  </tbody>\n",
       "</table>\n",
       "</div>"
      ],
      "text/plain": [
       "   Study Hours  Job Hours  Sleep Hours  Extracurricular Hours  Exam Score\n",
       "0            9         10            4                      2          56\n",
       "1            5          9            5                      1          46\n",
       "2            2          0            6                      3          57\n",
       "3            4         10            6                      5          37\n",
       "4            8          8            7                      1          69"
      ]
     },
     "execution_count": 12,
     "metadata": {},
     "output_type": "execute_result"
    }
   ],
   "source": [
    "data.head()"
   ]
  },
  {
   "cell_type": "code",
   "execution_count": 13,
   "id": "0794a123",
   "metadata": {},
   "outputs": [],
   "source": [
    "import statsmodels.api as sm \n",
    "\n",
    "# define variables for simple regression \n",
    "X = data['Study Hours']\n",
    "Y = data['Exam Score']"
   ]
  },
  {
   "cell_type": "code",
   "execution_count": 14,
   "id": "4976e0dc",
   "metadata": {},
   "outputs": [],
   "source": [
    "# add intercept (constant term)\n",
    "X = sm.add_constant(X)"
   ]
  },
  {
   "cell_type": "code",
   "execution_count": 15,
   "id": "f9176432",
   "metadata": {},
   "outputs": [
    {
     "data": {
      "text/html": [
       "<div>\n",
       "<style scoped>\n",
       "    .dataframe tbody tr th:only-of-type {\n",
       "        vertical-align: middle;\n",
       "    }\n",
       "\n",
       "    .dataframe tbody tr th {\n",
       "        vertical-align: top;\n",
       "    }\n",
       "\n",
       "    .dataframe thead th {\n",
       "        text-align: right;\n",
       "    }\n",
       "</style>\n",
       "<table border=\"1\" class=\"dataframe\">\n",
       "  <thead>\n",
       "    <tr style=\"text-align: right;\">\n",
       "      <th></th>\n",
       "      <th>const</th>\n",
       "      <th>Study Hours</th>\n",
       "    </tr>\n",
       "  </thead>\n",
       "  <tbody>\n",
       "    <tr>\n",
       "      <th>0</th>\n",
       "      <td>1.0</td>\n",
       "      <td>9</td>\n",
       "    </tr>\n",
       "    <tr>\n",
       "      <th>1</th>\n",
       "      <td>1.0</td>\n",
       "      <td>5</td>\n",
       "    </tr>\n",
       "    <tr>\n",
       "      <th>2</th>\n",
       "      <td>1.0</td>\n",
       "      <td>2</td>\n",
       "    </tr>\n",
       "    <tr>\n",
       "      <th>3</th>\n",
       "      <td>1.0</td>\n",
       "      <td>4</td>\n",
       "    </tr>\n",
       "    <tr>\n",
       "      <th>4</th>\n",
       "      <td>1.0</td>\n",
       "      <td>8</td>\n",
       "    </tr>\n",
       "  </tbody>\n",
       "</table>\n",
       "</div>"
      ],
      "text/plain": [
       "   const  Study Hours\n",
       "0    1.0            9\n",
       "1    1.0            5\n",
       "2    1.0            2\n",
       "3    1.0            4\n",
       "4    1.0            8"
      ]
     },
     "execution_count": 15,
     "metadata": {},
     "output_type": "execute_result"
    }
   ],
   "source": [
    "X.head()"
   ]
  },
  {
   "cell_type": "code",
   "execution_count": 16,
   "id": "470c2a3a",
   "metadata": {},
   "outputs": [],
   "source": [
    "# fit model using OLS (Ordinary Least Squares)\n",
    "model = sm.OLS(Y, X).fit()"
   ]
  },
  {
   "cell_type": "code",
   "execution_count": 17,
   "id": "37b6b1e8",
   "metadata": {},
   "outputs": [
    {
     "name": "stdout",
     "output_type": "stream",
     "text": [
      "                            OLS Regression Results                            \n",
      "==============================================================================\n",
      "Dep. Variable:             Exam Score   R-squared:                       0.482\n",
      "Model:                            OLS   Adj. R-squared:                  0.468\n",
      "Method:                 Least Squares   F-statistic:                     35.32\n",
      "Date:                Thu, 09 Oct 2025   Prob (F-statistic):           6.82e-07\n",
      "Time:                        14:19:29   Log-Likelihood:                -161.99\n",
      "No. Observations:                  40   AIC:                             328.0\n",
      "Df Residuals:                      38   BIC:                             331.4\n",
      "Df Model:                           1                                         \n",
      "Covariance Type:            nonrobust                                         \n",
      "===============================================================================\n",
      "                  coef    std err          t      P>|t|      [0.025      0.975]\n",
      "-------------------------------------------------------------------------------\n",
      "const          24.6404      5.476      4.500      0.000      13.556      35.725\n",
      "Study Hours     5.4672      0.920      5.943      0.000       3.605       7.330\n",
      "==============================================================================\n",
      "Omnibus:                        6.602   Durbin-Watson:                   1.738\n",
      "Prob(Omnibus):                  0.037   Jarque-Bera (JB):                2.695\n",
      "Skew:                           0.316   Prob(JB):                        0.260\n",
      "Kurtosis:                       1.896   Cond. No.                         14.8\n",
      "==============================================================================\n",
      "\n",
      "Notes:\n",
      "[1] Standard Errors assume that the covariance matrix of the errors is correctly specified.\n"
     ]
    }
   ],
   "source": [
    "# display summmary\n",
    "print(model.summary())"
   ]
  },
  {
   "cell_type": "code",
   "execution_count": 18,
   "id": "15f3f16e",
   "metadata": {},
   "outputs": [
    {
     "name": "stderr",
     "output_type": "stream",
     "text": [
      "C:\\Users\\ncc\\AppData\\Local\\Temp\\ipykernel_3916\\2510988936.py:11: FutureWarning: Series.__getitem__ treating keys as positions is deprecated. In a future version, integer keys will always be treated as labels (consistent with DataFrame behavior). To access a value by position, use `ser.iloc[pos]`\n",
      "  f\"Y = {model.params[0]:.2f} + {model.params[1]:.2f}X\",\n"
     ]
    },
    {
     "data": {
      "image/png": "[encoded data removed]",
      "text/plain": [
       "<Figure size 800x600 with 1 Axes>"
      ]
     },
     "metadata": {},
     "output_type": "display_data"
    }
   ],
   "source": [
    "# lets have the regression plot using regression line and scatter plot\n",
    "plt.figure(figsize = (8, 6))\n",
    "plt.scatter(data['Study Hours'], data['Exam Score'], color = 'skyblue', label = 'Actual Scores')\n",
    "plt.plot(data['Study Hours'], model.predict(X), color = 'red', label = 'Regression Line')\n",
    "\n",
    "# annotate\n",
    "plt.title('Simple Linear Regression: Study Hours vs Exam Score', fontsize = 14, weight = 'bold')\n",
    "plt.xlabel('Study Hours')\n",
    "plt.ylabel('Exam Score')\n",
    "plt.text(2, max(data['Exam Score'])-5,\n",
    "         f\"Y = {model.params[0]:.2f} + {model.params[1]:.2f}X\",\n",
    "         color = 'red',\n",
    "         fontsize = 12\n",
    "         )\n",
    "plt.legend()\n",
    "plt.grid(alpha = 0.3)\n",
    "plt.show()"
   ]
  },
  {
   "cell_type": "markdown",
   "id": "13fdd19b",
   "metadata": {},
   "source": [
    "This is our equation; `Exam Score = 24.6404 + 5.4672 * Study_Hours`\n",
    "\n",
    "`24.6404` - This is the intercept (constant term). It means that when a student studies 0 hours, their expected exam score is about 24.64 points.\n",
    "\n",
    "`5.4672` - This ithe slope coefficient for Study Hours. It means for every additional 1 hour of study, the student's exam score is expected to increase by about 5.47 points, on average.\n",
    "\n",
    "| **Statistic** | **Meaning** | **Interpretation** |  |  |\n",
    "|---------------|-------------|--------------------|--|--|\n",
    "| **Dep. Variable: Exam Score** | The outcome we're trying to predict | Exam performance of students |  |  |\n",
    "| **Model: OLS (Ordinary Least Squares)** | The estimation technique | Standard linear regression method minimizing squared errors |  |  |\n",
    "| **R-squared = 0.482** | Proportion of variance in Exam Score explained by Study Hours | About **48.2% of the variation** in exam scores is explained by study hours alone - a moderate to strong relationship |  |  |\n",
    "| **Adj. R-squared = 0.468** | Adjusted version accounting for number of predictors | Very close to R since we have only one predictor - confirms reliability |  |  |\n",
    "| **F-statistic = 35.32** | Tests if the model as a whole is a statistically significant | High F-value --> model is statistically significant |  |  |\n",
    "| **Prob (F-statistic) = 6.82e-07** | p-value of the overall model | **p < 0.001, so the model is highly significant (rejects null hypothesis that slope = 0) |  |  |\n",
    "| **const = 24.6404** | Intercept | Precited score when Study Hours = 0 |  |  |\n",
    "| **Study Hours = 5.4672** | Coefficient (slope) | For each extra hour of study, exam score increases by ~5.47 |  |  |\n",
    "| **t = 5.943, P>** | t = 0.000 | Significance test for the slope | Very small p-value --> slope is **statistically significant** (Study Hours truly influences Exam Score) |  |  |\n",
    "| **[0.025, 0.975] = [3.605, 7.330]** | 95% confidence interval for the slope | We are 95% confident the true slope is between **3.61 and 7.33**, showing positive effect |  |  |\n",
    "| **Durbin-Watson = 1.738** | Checks for autocorrelation in residuals | Close to 2 --> No serious autocorrelation problem |  |  |\n",
    "| **Omnibus, JB, Skew, Kurtosis** | Normality tests of residuals | Values suggest residuals are approximately normal (no strong deviation) |  |  |\n",
    "\n",
    "To summarize our result, we would say that;\n",
    "1.  There is a strong, positive, and statistical significant relationship between how long students study and their exam performance.\n",
    "2.  Study Hours alone expolains nearly half of the variability in scores.\n",
    "\n",
    "The regression line gives us a predictive model or equation.\n",
    "\n",
    "`Predicted_Exam_Score = 24.64 + 5.47 * Study_Hours`\n",
    "\n",
    "-   The **p-value < 0.001** confirms that the relationship is not due to chance."
   ]
  },
  {
   "cell_type": "markdown",
   "id": "1a7c2531",
   "metadata": {},
   "source": [
    "**Lets Evaluate Our Model**"
   ]
  },
  {
   "cell_type": "code",
   "execution_count": 19,
   "id": "07d55a24",
   "metadata": {},
   "outputs": [
    {
     "data": {
      "text/plain": [
       "0     73.845272\n",
       "1     51.976436\n",
       "2     35.574810\n",
       "3     46.509227\n",
       "4     68.378063\n",
       "5     62.910854\n",
       "6     46.509227\n",
       "7     30.107601\n",
       "8     46.509227\n",
       "9     46.509227\n",
       "10    41.042019\n",
       "11    62.910854\n",
       "12    73.845272\n",
       "13    46.509227\n",
       "14    68.378063\n",
       "15    57.443645\n",
       "16    68.378063\n",
       "17    51.976436\n",
       "18    30.107601\n",
       "19    30.107601\n",
       "20    68.378063\n",
       "21    57.443645\n",
       "22    68.378063\n",
       "23    46.509227\n",
       "24    46.509227\n",
       "25    46.509227\n",
       "26    46.509227\n",
       "27    51.976436\n",
       "28    51.976436\n",
       "29    73.845272\n",
       "30    57.443645\n",
       "31    68.378063\n",
       "32    41.042019\n",
       "33    68.378063\n",
       "34    51.976436\n",
       "35    46.509227\n",
       "36    73.845272\n",
       "37    68.378063\n",
       "38    68.378063\n",
       "39    30.107601\n",
       "dtype: float64"
      ]
     },
     "execution_count": 19,
     "metadata": {},
     "output_type": "execute_result"
    }
   ],
   "source": [
    "predictions = model.predict(X)\n",
    "predictions     # printed below are the predicted values"
   ]
  },
  {
   "cell_type": "markdown",
   "id": "84dc90b4",
   "metadata": {},
   "source": [
    "`Residal(e) = Y(actual) - Y(predicted)**2`"
   ]
  },
  {
   "cell_type": "code",
   "execution_count": 20,
   "id": "4d453649",
   "metadata": {},
   "outputs": [
    {
     "data": {
      "text/html": [
       "<div>\n",
       "<style scoped>\n",
       "    .dataframe tbody tr th:only-of-type {\n",
       "        vertical-align: middle;\n",
       "    }\n",
       "\n",
       "    .dataframe tbody tr th {\n",
       "        vertical-align: top;\n",
       "    }\n",
       "\n",
       "    .dataframe thead th {\n",
       "        text-align: right;\n",
       "    }\n",
       "</style>\n",
       "<table border=\"1\" class=\"dataframe\">\n",
       "  <thead>\n",
       "    <tr style=\"text-align: right;\">\n",
       "      <th></th>\n",
       "      <th>Study Hours</th>\n",
       "      <th>Exam Score</th>\n",
       "      <th>Predicted Exam Score</th>\n",
       "      <th>Squared Error</th>\n",
       "    </tr>\n",
       "  </thead>\n",
       "  <tbody>\n",
       "    <tr>\n",
       "      <th>0</th>\n",
       "      <td>9</td>\n",
       "      <td>56</td>\n",
       "      <td>73.845272</td>\n",
       "      <td>318.453719</td>\n",
       "    </tr>\n",
       "    <tr>\n",
       "      <th>1</th>\n",
       "      <td>5</td>\n",
       "      <td>46</td>\n",
       "      <td>51.976436</td>\n",
       "      <td>35.717790</td>\n",
       "    </tr>\n",
       "    <tr>\n",
       "      <th>2</th>\n",
       "      <td>2</td>\n",
       "      <td>57</td>\n",
       "      <td>35.574810</td>\n",
       "      <td>459.038779</td>\n",
       "    </tr>\n",
       "    <tr>\n",
       "      <th>3</th>\n",
       "      <td>4</td>\n",
       "      <td>37</td>\n",
       "      <td>46.509227</td>\n",
       "      <td>90.425406</td>\n",
       "    </tr>\n",
       "    <tr>\n",
       "      <th>4</th>\n",
       "      <td>8</td>\n",
       "      <td>69</td>\n",
       "      <td>68.378063</td>\n",
       "      <td>0.386806</td>\n",
       "    </tr>\n",
       "  </tbody>\n",
       "</table>\n",
       "</div>"
      ],
      "text/plain": [
       "   Study Hours  Exam Score  Predicted Exam Score  Squared Error\n",
       "0            9          56             73.845272     318.453719\n",
       "1            5          46             51.976436      35.717790\n",
       "2            2          57             35.574810     459.038779\n",
       "3            4          37             46.509227      90.425406\n",
       "4            8          69             68.378063       0.386806"
      ]
     },
     "execution_count": 20,
     "metadata": {},
     "output_type": "execute_result"
    }
   ],
   "source": [
    "# lets use our predicted score to check the erros\n",
    "\n",
    "data['Predicted Exam Score'] = predictions \n",
    "\n",
    "data['Squared Error'] = (data['Exam Score'] - data['Predicted Exam Score']) ** 2\n",
    "\n",
    "# show a few rows\n",
    "data[['Study Hours', 'Exam Score', 'Predicted Exam Score', 'Squared Error']].head()"
   ]
  },
  {
   "cell_type": "markdown",
   "id": "4aecb09d",
   "metadata": {},
   "source": [
    "Each squared error shows how much our model missed by making inaccurate prediction of larger values or lesser values.\n",
    "\n",
    "For us to conclude that we have a good model, our error must be as small as possible - that is, the model should minimize loss.\n",
    "\n",
    "**Do well to take note of this and their difference**\n",
    "-   Error term (): theoretical, unobservable noise in the true population model.\n",
    "-   Residual (e): observable difference between actual and predicted values in your sample"
   ]
  },
  {
   "cell_type": "markdown",
   "id": "e9fb4174",
   "metadata": {},
   "source": [
    "#### **multiple linear regression (several predictors)**"
   ]
  },
  {
   "cell_type": "markdown",
   "id": "62a84d96",
   "metadata": {},
   "source": [
    "Here, our dependent variable is still Exam_Score, but we will use multiple predictors of features\n",
    "\n",
    "-   Study Hours, Job Hours, Sleep Hours, Extracurricular Hours"
   ]
  },
  {
   "cell_type": "code",
   "execution_count": 21,
   "id": "fdd1af38",
   "metadata": {},
   "outputs": [],
   "source": [
    "# define predictors (independent variables)\n",
    "X = data[['Study Hours', 'Job Hours', 'Sleep Hours', 'Extracurricular Hours']]"
   ]
  },
  {
   "cell_type": "code",
   "execution_count": 22,
   "id": "569250fc",
   "metadata": {},
   "outputs": [
    {
     "data": {
      "text/html": [
       "<div>\n",
       "<style scoped>\n",
       "    .dataframe tbody tr th:only-of-type {\n",
       "        vertical-align: middle;\n",
       "    }\n",
       "\n",
       "    .dataframe tbody tr th {\n",
       "        vertical-align: top;\n",
       "    }\n",
       "\n",
       "    .dataframe thead th {\n",
       "        text-align: right;\n",
       "    }\n",
       "</style>\n",
       "<table border=\"1\" class=\"dataframe\">\n",
       "  <thead>\n",
       "    <tr style=\"text-align: right;\">\n",
       "      <th></th>\n",
       "      <th>Study Hours</th>\n",
       "      <th>Job Hours</th>\n",
       "      <th>Sleep Hours</th>\n",
       "      <th>Extracurricular Hours</th>\n",
       "    </tr>\n",
       "  </thead>\n",
       "  <tbody>\n",
       "    <tr>\n",
       "      <th>0</th>\n",
       "      <td>9</td>\n",
       "      <td>10</td>\n",
       "      <td>4</td>\n",
       "      <td>2</td>\n",
       "    </tr>\n",
       "    <tr>\n",
       "      <th>1</th>\n",
       "      <td>5</td>\n",
       "      <td>9</td>\n",
       "      <td>5</td>\n",
       "      <td>1</td>\n",
       "    </tr>\n",
       "    <tr>\n",
       "      <th>2</th>\n",
       "      <td>2</td>\n",
       "      <td>0</td>\n",
       "      <td>6</td>\n",
       "      <td>3</td>\n",
       "    </tr>\n",
       "    <tr>\n",
       "      <th>3</th>\n",
       "      <td>4</td>\n",
       "      <td>10</td>\n",
       "      <td>6</td>\n",
       "      <td>5</td>\n",
       "    </tr>\n",
       "    <tr>\n",
       "      <th>4</th>\n",
       "      <td>8</td>\n",
       "      <td>8</td>\n",
       "      <td>7</td>\n",
       "      <td>1</td>\n",
       "    </tr>\n",
       "  </tbody>\n",
       "</table>\n",
       "</div>"
      ],
      "text/plain": [
       "   Study Hours  Job Hours  Sleep Hours  Extracurricular Hours\n",
       "0            9         10            4                      2\n",
       "1            5          9            5                      1\n",
       "2            2          0            6                      3\n",
       "3            4         10            6                      5\n",
       "4            8          8            7                      1"
      ]
     },
     "execution_count": 22,
     "metadata": {},
     "output_type": "execute_result"
    }
   ],
   "source": [
    "X.head()"
   ]
  },
  {
   "cell_type": "code",
   "execution_count": 23,
   "id": "d09aa0ba",
   "metadata": {},
   "outputs": [],
   "source": [
    "# add constant term (intercept)\n",
    "X = sm.add_constant(X)"
   ]
  },
  {
   "cell_type": "markdown",
   "id": "d06a96e8",
   "metadata": {},
   "source": [
    "**What the Constant (Intercept) Represents**\n",
    "-   The constant (b) represents the predicted value of & when all Xs = 0.\n",
    "\n",
    "| **Reason** | **Explanation** |\n",
    "|------------|-----------------|\n",
    "| **1. To capture the baseline level of Y** | Even when all predictors are zero, Y might not be zero. For example, some students will score something even without studying. |\n",
    "| **2. To avoid forcine the line through the origin (0,0)** | Without the constant, your regression line must pass through the origin, which is often unrealistic and can distort all other coefficients. |\n",
    "| **3. To improve model fit** | The intercept helps shift the regressionline vertically to best fit the data. Without it, your model can have larger errors. |\n",
    "| **4. To correctly estimate slopes** | If you omit the intercept, the slope estimates may become biased, because the model is trying to \"force-fit\" around zero. |\n",
    "| **5. Because real-world data usually has nonzero baselines** | For example, people have some exam performance, income, or blood pressure even when explanatory variables are at 0. |"
   ]
  },
  {
   "cell_type": "code",
   "execution_count": 24,
   "id": "4672e679",
   "metadata": {},
   "outputs": [
    {
     "data": {
      "text/html": [
       "<div>\n",
       "<style scoped>\n",
       "    .dataframe tbody tr th:only-of-type {\n",
       "        vertical-align: middle;\n",
       "    }\n",
       "\n",
       "    .dataframe tbody tr th {\n",
       "        vertical-align: top;\n",
       "    }\n",
       "\n",
       "    .dataframe thead th {\n",
       "        text-align: right;\n",
       "    }\n",
       "</style>\n",
       "<table border=\"1\" class=\"dataframe\">\n",
       "  <thead>\n",
       "    <tr style=\"text-align: right;\">\n",
       "      <th></th>\n",
       "      <th>const</th>\n",
       "      <th>Study Hours</th>\n",
       "      <th>Job Hours</th>\n",
       "      <th>Sleep Hours</th>\n",
       "      <th>Extracurricular Hours</th>\n",
       "    </tr>\n",
       "  </thead>\n",
       "  <tbody>\n",
       "    <tr>\n",
       "      <th>0</th>\n",
       "      <td>1.0</td>\n",
       "      <td>9</td>\n",
       "      <td>10</td>\n",
       "      <td>4</td>\n",
       "      <td>2</td>\n",
       "    </tr>\n",
       "    <tr>\n",
       "      <th>1</th>\n",
       "      <td>1.0</td>\n",
       "      <td>5</td>\n",
       "      <td>9</td>\n",
       "      <td>5</td>\n",
       "      <td>1</td>\n",
       "    </tr>\n",
       "    <tr>\n",
       "      <th>2</th>\n",
       "      <td>1.0</td>\n",
       "      <td>2</td>\n",
       "      <td>0</td>\n",
       "      <td>6</td>\n",
       "      <td>3</td>\n",
       "    </tr>\n",
       "    <tr>\n",
       "      <th>3</th>\n",
       "      <td>1.0</td>\n",
       "      <td>4</td>\n",
       "      <td>10</td>\n",
       "      <td>6</td>\n",
       "      <td>5</td>\n",
       "    </tr>\n",
       "    <tr>\n",
       "      <th>4</th>\n",
       "      <td>1.0</td>\n",
       "      <td>8</td>\n",
       "      <td>8</td>\n",
       "      <td>7</td>\n",
       "      <td>1</td>\n",
       "    </tr>\n",
       "  </tbody>\n",
       "</table>\n",
       "</div>"
      ],
      "text/plain": [
       "   const  Study Hours  Job Hours  Sleep Hours  Extracurricular Hours\n",
       "0    1.0            9         10            4                      2\n",
       "1    1.0            5          9            5                      1\n",
       "2    1.0            2          0            6                      3\n",
       "3    1.0            4         10            6                      5\n",
       "4    1.0            8          8            7                      1"
      ]
     },
     "execution_count": 24,
     "metadata": {},
     "output_type": "execute_result"
    }
   ],
   "source": [
    "X.head()"
   ]
  },
  {
   "cell_type": "code",
   "execution_count": 25,
   "id": "33b73719",
   "metadata": {},
   "outputs": [],
   "source": [
    "# define dependent variable\n",
    "y = data['Exam Score']"
   ]
  },
  {
   "cell_type": "code",
   "execution_count": 26,
   "id": "0cda762e",
   "metadata": {},
   "outputs": [
    {
     "data": {
      "text/plain": [
       "0    56\n",
       "1    46\n",
       "2    57\n",
       "3    37\n",
       "4    69\n",
       "Name: Exam Score, dtype: int32"
      ]
     },
     "execution_count": 26,
     "metadata": {},
     "output_type": "execute_result"
    }
   ],
   "source": [
    "y.head()"
   ]
  },
  {
   "cell_type": "code",
   "execution_count": 27,
   "id": "6b11b2e0",
   "metadata": {},
   "outputs": [],
   "source": [
    "# fits OLS regression\n",
    "model = sm.OLS(y, X).fit()"
   ]
  },
  {
   "cell_type": "code",
   "execution_count": 28,
   "id": "24a8ee9c",
   "metadata": {},
   "outputs": [
    {
     "data": {
      "text/plain": [
       "const                    44.790203\n",
       "Study Hours               4.641188\n",
       "Job Hours                -3.145561\n",
       "Sleep Hours               1.573738\n",
       "Extracurricular Hours    -0.876619\n",
       "dtype: float64"
      ]
     },
     "execution_count": 28,
     "metadata": {},
     "output_type": "execute_result"
    }
   ],
   "source": [
    "# lets check the estimated coefficients\n",
    "model.params"
   ]
  },
  {
   "cell_type": "markdown",
   "id": "d4bc210a",
   "metadata": {},
   "source": [
    "`Predicted Exam Score = 44.79 + 4.64(Study Hours) - 3.15(Job Hours) + 1.57(Sleep Hours) -0.88 (Extracurricular Hours)`"
   ]
  },
  {
   "cell_type": "markdown",
   "id": "c4e944d9",
   "metadata": {},
   "source": [
    "| **Coefficient** | **Meaning** | **Interpretation** |\n",
    "|-----------------|-------------|--------------------|\n",
    "| **const = 44.79** | The intercept (constant term) | If a student does **0 hours** of study, job, sleep, and extracurriculars, their baseline exam score is **44.79**. It's the model's predicted starting point. |\n",
    "| **Study Hours = +4.64** | Positive relationship | Each **additional hour of study** is expected to **increase** the exam score by about **4.64 points**, holding all other factors constant. |\n",
    "| **Job Hours = -3.15** | Negative relationship | Each **additional hour spent working a job** is expected to **decrease** exam score by about **3.15 points**, all else equal (since more job hours might reduce study time or rest). |\n",
    "| **Sleep Hours = +1.57** | Positive relationship | Each **extra hour of sleep** increases exam score by about **1.57 points**, holding other variables constant. |\n",
    "| **Extracurricular Hours = -0.88** | Negative relationship | Each **extra hour spent on extracurricula activities** reduces exam score by about **0.88** points**, likely because it cuts into study or rest time. |\n",
    "\n",
    "`model.params` gives the estimated weights the model assigns to each factor.\n",
    "\n",
    "Together, they define the best-fitting line (or hyperlane) throug your multidimentional data.\n",
    "\n",
    "The signs (+ or -) show direction of the relationship.\n",
    "\n",
    "The magnitudes show how strong each effect is."
   ]
  },
  {
   "cell_type": "markdown",
   "id": "8d564b2f",
   "metadata": {},
   "source": [
    "**How to Interpret \"Holding other factors constant\"**\n",
    "\n",
    "In multiple regression, each coefficient shows the unique effect of that variable after controlling for others.\n",
    "\n",
    "For example:\n",
    "\n",
    "The \"4.64\" for Study Hours means the gain in exam score due to study time, assuring sleep, job hours, and extracurricular activities remain the same.\n",
    "\n",
    "So this model isolates the independent impact of each variable that's simply the power of multiple regression.\n",
    "\n",
    "**Bringing our interpretation to life**\n",
    "\n",
    "Positive Influences\n",
    "-   Study Hours and Sleep Hours both improve exam scores.\n",
    "\n",
    "Negative Influences\n",
    "-   Job Hours and Extracurricular Hours lower exam scores.\n",
    "\n",
    "Insight\n",
    "-   This aligns with intuition -- more study and sleep are beneficial, while too much work or extracurricular activity can hurt performance."
   ]
  },
  {
   "cell_type": "code",
   "execution_count": 29,
   "id": "70845fb7",
   "metadata": {},
   "outputs": [
    {
     "data": {
      "image/png": "[encoded data removed]",
      "text/plain": [
       "<Figure size 1000x800 with 5 Axes>"
      ]
     },
     "metadata": {},
     "output_type": "display_data"
    }
   ],
   "source": [
    "fig = plt.figure(figsize = (10, 8))\n",
    "sm.graphics.plot_partregress_grid(model, fig = fig)\n",
    "plt.suptitle(\"Partial Regression Plots for All Predictors\", fontsize = 14)\n",
    "plt.show()"
   ]
  },
  {
   "cell_type": "code",
   "execution_count": 30,
   "id": "d3b1fb62",
   "metadata": {},
   "outputs": [
    {
     "name": "stdout",
     "output_type": "stream",
     "text": [
      "                            OLS Regression Results                            \n",
      "==============================================================================\n",
      "Dep. Variable:             Exam Score   R-squared:                       0.980\n",
      "Model:                            OLS   Adj. R-squared:                  0.978\n",
      "Method:                 Least Squares   F-statistic:                     429.2\n",
      "Date:                Thu, 09 Oct 2025   Prob (F-statistic):           3.31e-29\n",
      "Time:                        15:23:51   Log-Likelihood:                -96.874\n",
      "No. Observations:                  40   AIC:                             203.7\n",
      "Df Residuals:                      35   BIC:                             212.2\n",
      "Df Model:                           4                                         \n",
      "Covariance Type:            nonrobust                                         \n",
      "=========================================================================================\n",
      "                            coef    std err          t      P>|t|      [0.025      0.975]\n",
      "-----------------------------------------------------------------------------------------\n",
      "const                    44.7902      2.350     19.061      0.000      40.020      49.561\n",
      "Study Hours               4.6412      0.191     24.320      0.000       4.254       5.029\n",
      "Job Hours                -3.1456      0.111    -28.349      0.000      -3.371      -2.920\n",
      "Sleep Hours               1.5737      0.338      4.656      0.000       0.888       2.260\n",
      "Extracurricular Hours    -0.8766      0.274     -3.194      0.003      -1.434      -0.319\n",
      "==============================================================================\n",
      "Omnibus:                        1.763   Durbin-Watson:                   2.121\n",
      "Prob(Omnibus):                  0.414   Jarque-Bera (JB):                1.201\n",
      "Skew:                          -0.134   Prob(JB):                        0.548\n",
      "Kurtosis:                       2.195   Cond. No.                         59.5\n",
      "==============================================================================\n",
      "\n",
      "Notes:\n",
      "[1] Standard Errors assume that the covariance matrix of the errors is correctly specified.\n"
     ]
    }
   ],
   "source": [
    "# display summary\n",
    "print(model.summary())"
   ]
  },
  {
   "cell_type": "markdown",
   "id": "39bc5d6f",
   "metadata": {},
   "source": [
    "**Task 20**\n",
    "1.  Run the code above and interprets the result\n",
    "2.  Plot the regression line\n",
    "\n",
    "**Difference Between Statistical Regression and ML Regression**\n",
    "\n",
    "| **Aspect** | **Statistical Regression (OLS)** | **Machine Learning Regression (sklearn)** |\n",
    "|------------|----------------------------------|------------------|\n",
    "| **Goal** | _Explain relationships and test significance_ | _Predict outcomes accurately_ |\n",
    "| **Focus** | Interpretation of coefficients, p-values, confidence intervals | Performance (R, MAE, RMSE, cross-validation) |\n",
    "| **Output Table** | Rich summary (coef, std err, t, p> t,, R, F-statistic, etc.) | Minimal (just `.coef_` and `.intercept_`) |\n",
    "| **Concern** | \"Is there a significant relationship?\" | \"Can we predict new data well?\" |\n",
    "| **Evaluation** | Hypothesis tests | Model validation and generalization |\n",
    "| **Typical Use** | Research, academic, social science | Data science, production, automation |"
   ]
  }
 ],
 "metadata": {
  "kernelspec": {
   "display_name": "new_module",
   "language": "python",
   "name": "python3"
  },
  "language_info": {
   "codemirror_mode": {
    "name": "ipython",
    "version": 3
   },
   "file_extension": ".py",
   "mimetype": "text/x-python",
   "name": "python",
   "nbconvert_exporter": "python",
   "pygments_lexer": "ipython3",
   "version": "3.13.5"
  }
 },
 "nbformat": 4,
 "nbformat_minor": 5
}
