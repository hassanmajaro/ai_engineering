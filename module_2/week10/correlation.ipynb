{
 "cells": [
  {
   "cell_type": "markdown",
   "id": "e832638b",
   "metadata": {},
   "source": [
    "# **1.  Correlation**\n",
    "\n",
    "Correlation is a statistical measure that shows how two variables move together. It tells us\n",
    "\n",
    "1.  Direction - Do they move in the same direction (positive) or opposite (negative)?\n",
    "2.  Strength - How strongly they are related (weak, moderate, or strong).\n",
    "\n",
    "The most common measure is **Pearson's correlation coefficient (`r`)**.\n",
    "\n",
    "`r` ranges between -1 and +1.\n",
    "\n",
    "**Types of Correlation**\n",
    "\n",
    "**Positive Correlation (r > 0)**\n",
    "-   As one variable increases, the other also increases.\n",
    "-   Example: More study hours - Higher exam scores."
   ]
  },
  {
   "cell_type": "markdown",
   "id": "c1ad739a",
   "metadata": {},
   "source": [
    "![image.png](attachment:image.png)"
   ]
  },
  {
   "cell_type": "markdown",
   "id": "8f133ffa",
   "metadata": {},
   "source": [
    "**More Examples of Positive Correlation**\n",
    "1.  Study hours ⬆ Exam score ⬆\n",
    "2.  Sleep hours ⬆ Concentration ⬆\n",
    "3.  Class attendance ⬆ Understanding ⬆\n",
    "4.  Practice questions ⬆ Test performance ⬆\n",
    "5.  Participation in group study ⬆ Grades ⬆\n",
    "6.  Teacher feedback ⬆ Student improvement ⬆\n",
    "7.  Number of revision sessions ⬆ Retention ⬆\n",
    "8.  Motivation ⬆ Academic achievement ⬆\n",
    "9.  Lecture note reviews ⬆ Recall in exams ⬆\n",
    "10. Library hours ⬆ GPA ⬆"
   ]
  },
  {
   "cell_type": "markdown",
   "id": "61f4a43f",
   "metadata": {},
   "source": [
    "**Negative Correlation (r < 0>)**\n",
    "-   As one variable increases, the other decreases.\n",
    "-   Example: More part time job hours - Lower exam scores"
   ]
  },
  {
   "cell_type": "markdown",
   "id": "1a808014",
   "metadata": {},
   "source": [
    "**More Examples of Negative Correlation**\n",
    "\n",
    "1. Part-time job hours ⬆  Exam score ⬇\n",
    "2. Extracurricular hours ⬆  Study time ⬇\n",
    "3. Screen time (TV/social media) ⬆  Academic performance ⬇\n",
    "4. Stress level ⬆  Sleep quality ⬇\n",
    "5. Absenteeism ⬆  Grades ⬇\n",
    "6. Late-night gaming ⬆  Morning alertness ⬇\n",
    "7. Procrastination ⬆  Assignment quality ⬇\n",
    "8. Fatigue ⬆  Productivity ⬇\n",
    "9. Alcohol consumption ⬆  Cognitive performance ⬇\n",
    "10. Distractions in study ⬆  Exam score ⬇"
   ]
  },
  {
   "cell_type": "markdown",
   "id": "811c7f18",
   "metadata": {},
   "source": [
    "**Zero/No Correlation (r ~~ 0)**\n",
    "-   No clear relationship\n",
    "-   Example: Shoe size - Exam scores."
   ]
  },
  {
   "cell_type": "markdown",
   "id": "f36be5c3",
   "metadata": {},
   "source": [
    "**Interpreting the Strength using the correlation Coefficient**\n",
    "`0.0 - 0.2 Very weak (almost no relationship)`\n",
    "\n",
    "`02. - 0.4 Weak`\n",
    "\n",
    "`0.4 - 0.6 Moderate`\n",
    "\n",
    "`0.6 - 0.8 Strong`\n",
    "\n",
    "`0.8 - 1.0 -> Very strong`\n",
    "\n",
    "Example: If correlation between study hours and scores is 0.85, it's a very strong positive correlation."
   ]
  },
  {
   "cell_type": "markdown",
   "id": "80eabfab",
   "metadata": {},
   "source": [
    "**What Correlation Does NOT Mean**\n",
    "\n",
    "`Correlation != Causation`\n",
    "\n",
    "Just because two things move together doesn't mean one causes the other.\n",
    "\n",
    "**Misleading Correlation**\n",
    "\n",
    "Ice cream sales ↑ and drowning deaths ↑ in summer\n",
    "-   They are correlated.\n",
    "-   But ice cream doesn't cause drowning.\n",
    "\n",
    "The real reason is temperature (summer season people tend to go for swimming and lick more icecreams).\n",
    "\n",
    "This leads us to two key issue, which are;\n",
    "1.  Spurious Correlation\n",
    "2.  Confounding Variables\n",
    "\n",
    "**Spurious Correlation**\n",
    "A correlation that looks real but happens by coincidence or due to a hidden factor. \n",
    "\n",
    "Example: Worldwide cheese consumption correlates with the number of people who died by bedsheet entanglement. (completely nonsense, but statistically correlated)."
   ]
  },
  {
   "cell_type": "markdown",
   "id": "08fbe878",
   "metadata": {},
   "source": [
    "**Correlation does not equals causation**"
   ]
  },
  {
   "cell_type": "markdown",
   "id": "54d4d46c",
   "metadata": {},
   "source": [
    "**Confounding Variables**\n",
    "\n",
    "A third variable that influences both the independent and dependent variable. \n",
    "\n",
    "Example:\n",
    "\n",
    "Students with higher motivation both study more and score higher.\n",
    "\n",
    "So it may look like study hours led to higher score, but motivation is the confounder"
   ]
  },
  {
   "cell_type": "markdown",
   "id": "480853f7",
   "metadata": {},
   "source": [
    "**Why Start with Correlation Before Regression**\n",
    "\n",
    "Correlation is the first check, \"Are these two variables related at all?\"\n",
    "\n",
    "If yes, regression goes further, \"By how much? Is it significant? What happens when we add other factors?\""
   ]
  },
  {
   "cell_type": "markdown",
   "id": "6ce8fbba",
   "metadata": {},
   "source": [
    "**Correlation in Codes**"
   ]
  },
  {
   "cell_type": "code",
   "execution_count": 2,
   "id": "8ac880c3",
   "metadata": {},
   "outputs": [],
   "source": [
    "import pandas as pd \n",
    "import numpy as np\n",
    "import matplotlib.pyplot as plt\n",
    "import seaborn as sns \n",
    "\n",
    "# set seed for reproducibility\n",
    "np.random.seed(234)"
   ]
  },
  {
   "cell_type": "code",
   "execution_count": 3,
   "id": "33d3b5b8",
   "metadata": {},
   "outputs": [],
   "source": [
    "# Create synthetic dataset\n",
    "students = 40\n",
    "study_hours = np.random.randint(1, 10, students)        # 1 to 9 hours of study\n",
    "job_hours = np.random.randint(0, 15, students)      # 0 to 14 hours job\n",
    "sleep_hours = np.random.randint(4, 9, students)     # 4 to 8 hours sleep\n",
    "extracurricular = np.random.randint(0, 6, students)     # 0 to 5 hrs activities\n",
    "\n",
    "# exam score: positively influenced by study & sleep, negatively by job & extra activities\n",
    "exam_score = (40\n",
    "              + 5 * study_hours       # strong positive\n",
    "              + 2 * sleep_hours       # mild positive\n",
    "              - 3 * job_hours         # strong negative\n",
    "              - 1 * extracurricular   # mild negative\n",
    "              + np.random.randint(-5, 5, students))     # noise\n",
    "\n",
    "data = pd.DataFrame({\n",
    "    'Study Hours': study_hours,\n",
    "    'Job Hours': job_hours,\n",
    "    'Sleep Hours': sleep_hours,\n",
    "    'Extracurricular Hours': extracurricular,\n",
    "    'Exam Score': exam_score\n",
    "})"
   ]
  },
  {
   "cell_type": "code",
   "execution_count": 4,
   "id": "1cdb3a7a",
   "metadata": {},
   "outputs": [
    {
     "data": {
      "text/html": [
       "<div>\n",
       "<style scoped>\n",
       "    .dataframe tbody tr th:only-of-type {\n",
       "        vertical-align: middle;\n",
       "    }\n",
       "\n",
       "    .dataframe tbody tr th {\n",
       "        vertical-align: top;\n",
       "    }\n",
       "\n",
       "    .dataframe thead th {\n",
       "        text-align: right;\n",
       "    }\n",
       "</style>\n",
       "<table border=\"1\" class=\"dataframe\">\n",
       "  <thead>\n",
       "    <tr style=\"text-align: right;\">\n",
       "      <th></th>\n",
       "      <th>Study Hours</th>\n",
       "      <th>Job Hours</th>\n",
       "      <th>Sleep Hours</th>\n",
       "      <th>Extracurricular Hours</th>\n",
       "      <th>Exam Score</th>\n",
       "    </tr>\n",
       "  </thead>\n",
       "  <tbody>\n",
       "    <tr>\n",
       "      <th>0</th>\n",
       "      <td>9</td>\n",
       "      <td>10</td>\n",
       "      <td>4</td>\n",
       "      <td>2</td>\n",
       "      <td>56</td>\n",
       "    </tr>\n",
       "    <tr>\n",
       "      <th>1</th>\n",
       "      <td>5</td>\n",
       "      <td>9</td>\n",
       "      <td>5</td>\n",
       "      <td>1</td>\n",
       "      <td>46</td>\n",
       "    </tr>\n",
       "    <tr>\n",
       "      <th>2</th>\n",
       "      <td>2</td>\n",
       "      <td>0</td>\n",
       "      <td>6</td>\n",
       "      <td>3</td>\n",
       "      <td>57</td>\n",
       "    </tr>\n",
       "    <tr>\n",
       "      <th>3</th>\n",
       "      <td>4</td>\n",
       "      <td>10</td>\n",
       "      <td>6</td>\n",
       "      <td>5</td>\n",
       "      <td>37</td>\n",
       "    </tr>\n",
       "    <tr>\n",
       "      <th>4</th>\n",
       "      <td>8</td>\n",
       "      <td>8</td>\n",
       "      <td>7</td>\n",
       "      <td>1</td>\n",
       "      <td>69</td>\n",
       "    </tr>\n",
       "  </tbody>\n",
       "</table>\n",
       "</div>"
      ],
      "text/plain": [
       "   Study Hours  Job Hours  Sleep Hours  Extracurricular Hours  Exam Score\n",
       "0            9         10            4                      2          56\n",
       "1            5          9            5                      1          46\n",
       "2            2          0            6                      3          57\n",
       "3            4         10            6                      5          37\n",
       "4            8          8            7                      1          69"
      ]
     },
     "execution_count": 4,
     "metadata": {},
     "output_type": "execute_result"
    }
   ],
   "source": [
    "data.head()"
   ]
  }
 ],
 "metadata": {
  "kernelspec": {
   "display_name": "new_module",
   "language": "python",
   "name": "python3"
  },
  "language_info": {
   "codemirror_mode": {
    "name": "ipython",
    "version": 3
   },
   "file_extension": ".py",
   "mimetype": "text/x-python",
   "name": "python",
   "nbconvert_exporter": "python",
   "pygments_lexer": "ipython3",
   "version": "3.13.5"
  }
 },
 "nbformat": 4,
 "nbformat_minor": 5
}
