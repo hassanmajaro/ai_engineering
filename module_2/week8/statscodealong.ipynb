{
 "cells": [
  {
   "cell_type": "markdown",
   "id": "d001264d",
   "metadata": {},
   "source": [
    "# Statistics"
   ]
  },
  {
   "cell_type": "markdown",
   "id": "ca5782ba",
   "metadata": {},
   "source": [
    "* Statistics is the science of **collecting, organizing, analyzing, interpreting,** and **presenting data** to make **informed decisions**.\n",
    "* Lets think of it as a toolkit that helps us make sense of numbers and discover patterns in the world around us."
   ]
  },
  {
   "cell_type": "markdown",
   "id": "9ca4b91e",
   "metadata": {},
   "source": [
    "**There are two main branches**\n",
    "1.  **Descriptive Statistics**\n",
    "*   Deals with summarizing, organizing, and presenting data we already have.\n",
    "*   Uses measures like mean (average), median, mode, range, variance, and standard deviation to describe a dataset.\n",
    "*   Also involves graphs, charts, and tables for easy visualiztion.\n",
    "*   For example calculating the average coding hours of AI engineering students.\n",
    "\n",
    "2.  **Inferential Statistics**\n",
    "*   Uses data from a sample to make conclusions or predictions about a larger population.\n",
    "*   Involves methods like correlation, regression, hypothesis testing, chi-square tests, t-tests, and ANOVA.\n",
    "*   Helps in data-driven decision making by testing ideas and estimating outcomes with a level of certainty.\n",
    "*   Foundation of predictive analysis, guiding policymakers and organizations in making strategic decisions.\n",
    "*   For example, using a survey of 1,000 people to predict how millions will vote in a presidential election.\n",
    "\n",
    "**Why Statistics**\n",
    "*   Beyond the confusing formulas and outrageous numbers, statistics will help us answer questions like;\n",
    "    -   What's typical? (measures of center)\n",
    "    -   How much variation is there? (measures of spread)\n",
    "    -   Is this pattern real or just coincidence? (hypothesis testing)\n",
    "    -   Can we predict future outcomes? (regression)"
   ]
  },
  {
   "cell_type": "markdown",
   "id": "9f0d5531",
   "metadata": {},
   "source": [
    "### Lets try to understand these concepts with codes"
   ]
  },
  {
   "cell_type": "code",
   "execution_count": null,
   "id": "92869724",
   "metadata": {},
   "outputs": [],
   "source": [
    "import numpy as np\n",
    "import pandas as pd\n",
    "import matplotlib.pyplot as plt\n",
    "import scipy.stats as stats"
   ]
  },
  {
   "cell_type": "code",
   "execution_count": null,
   "id": "656271dd",
   "metadata": {},
   "outputs": [],
   "source": [
    "# let's set random seed for reproducibility\n",
    "np.random.seed(42)"
   ]
  },
  {
   "cell_type": "code",
   "execution_count": null,
   "id": "3b3598d8",
   "metadata": {},
   "outputs": [],
   "source": [
    "# let's simulate a dataset for AI engineering students\n",
    "\n",
    "# 1.    Traditional learning - classroom based\n",
    "# lets create it with a 25hours/week and standard deviation of 5 hours\n",
    "traditional_study_hours = np.random.normal(25, 5, 100)\n",
    "\n",
    "# 2.    Accelerated learning (project-based and hands-on style)\n",
    "\n",
    "# this one will be a 35 hours/week a standard deviation of 8 hours\n",
    "accelerated_study_hours = np.random.normal(35, 8, 100)\n",
    "\n",
    "# lets generate corresponding performance scores between 0-100\n",
    "\n",
    "# we would let the performance correlate with study hours but has some randomness\n",
    "\n",
    "traditional_scores = np.random.normal(75, 12, 100)\n",
    "accelerated_scores = np.random.normal(82, 15, 100)\n",
    "\n",
    "# lets generate project completion counts\n",
    "\n",
    "traditional_projects = np.random.poisson(8, 100)\n",
    "accelerated_projects = np.random.poisson(12, 100)"
   ]
  }
 ],
 "metadata": {
  "language_info": {
   "name": "python"
  }
 },
 "nbformat": 4,
 "nbformat_minor": 5
}
