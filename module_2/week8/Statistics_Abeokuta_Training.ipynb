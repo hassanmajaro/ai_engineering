{
  "cells": [
    {
      "cell_type": "markdown",
      "metadata": {
        "id": "C0LUU6FAwOlR"
      },
      "source": [
        "# ***INTRODUCTION TO STATISTICS***\n",
        "\n",
        "\n",
        "Welcome to this study on **Statistics for Data Science**!\n",
        "\n",
        "In this journey, we'll dive into key statistical concepts that are essential for AI and Machine Learning. We'll start with foundational concepts and progressively tackle more advanced topics, including probability, statistical inference, hypothesis testing, and regression.\n",
        "\n",
        "This notebook covers:\n",
        "- **Measures of Center**\n",
        "- **Measures of Spread**\n"
      ]
    },
    {
      "cell_type": "markdown",
      "metadata": {
        "id": "q_ghX1rAwxVM"
      },
      "source": [
        "## Introduction\n",
        "\n",
        "What is Statistics?\n",
        "\n",
        "- Statistics is the study of how to collect, analyze, and draw conclusions from data. It’s a hugely valuable tool that you can use to bring the future into focus and infer the answer to tons of questions. For example, what is the likelihood of someone purchasing your product,  how many jeans sizes should you manufacture to fit 95% of the population? Statistics can be used to answer lots of different types of questions, but being able to identify which type of statistics is needed is essential to drawing accurate conclusions.\n",
        "\n",
        "- Summary statisics generally discusses or gives insights to the summary of your data.\n",
        "\n",
        "\n",
        "\n"
      ]
    },
    {
      "cell_type": "markdown",
      "metadata": {
        "id": "2wI9dLpLxTsC"
      },
      "source": [
        "\n",
        "There are 2 types of Statistics namely; Descriptive and Inferrential Statistics.\n",
        "\n",
        "- Descriptive Statistics describes and summarizes our data.\n",
        "\n",
        "- While inferrential statistics in essential in making inferences and drawing conclusions about our data.\n",
        "\n",
        "\n",
        "[<img src=\"https://drive.google.com/uc?id=1nD0D1tIX1gZtqggMmg5-YFpwb2oFKwvA\" alt=\"Image Description\" width=\"800\"/>](https://github.com/anhhaibkhn/Data-Science-selfstudy-notes-Blog/blob/master/_notebooks/Introduction%20to%20Statistics%20in%20Python/pdfs/chapter1.pdf)"
      ]
    },
    {
      "cell_type": "code",
      "execution_count": 1,
      "metadata": {
        "colab": {
          "base_uri": "https://localhost:8080/"
        },
        "id": "VW9ms4lxp4FF",
        "outputId": "457e6e81-1d08-43d1-c203-bb1051c2a816"
      },
      "outputs": [],
      "source": [
        "import gdown"
      ]
    },
    {
      "cell_type": "code",
      "execution_count": 2,
      "metadata": {
        "colab": {
          "base_uri": "https://localhost:8080/",
          "height": 104
        },
        "id": "J2oRu4J2wEJO",
        "outputId": "18d45348-4b59-42fd-abde-c787e3d2f1b3"
      },
      "outputs": [
        {
          "name": "stderr",
          "output_type": "stream",
          "text": [
            "Downloading...\n",
            "From: https://drive.google.com/uc?id=1yB5qSBOLl96Y563nIewKOU8RN_gsY3dO\n",
            "To: d:\\clean_ai_engineering\\module_2\\week8\\data.csv\n",
            "100%|██████████| 52.0k/52.0k [00:00<00:00, 15.2MB/s]\n"
          ]
        },
        {
          "data": {
            "text/plain": [
              "'data.csv'"
            ]
          },
          "execution_count": 2,
          "metadata": {},
          "output_type": "execute_result"
        }
      ],
      "source": [
        "file_id = '1yB5qSBOLl96Y563nIewKOU8RN_gsY3dO'  # Make sure it's a string\n",
        "gdown.download(f'https://drive.google.com/uc?id={file_id}', 'data.csv', quiet=False)"
      ]
    },
    {
      "cell_type": "code",
      "execution_count": 3,
      "metadata": {
        "id": "ryWpgh0_x1sZ"
      },
      "outputs": [],
      "source": [
        "import pandas as pd\n",
        "import numpy as np"
      ]
    },
    {
      "cell_type": "code",
      "execution_count": 4,
      "metadata": {
        "colab": {
          "base_uri": "https://localhost:8080/",
          "height": 206
        },
        "id": "59YkUY28x3eW",
        "outputId": "2ba9bfb3-9e76-4eb7-cc91-6b4faad0d739"
      },
      "outputs": [
        {
          "data": {
            "text/html": [
              "<div>\n",
              "<style scoped>\n",
              "    .dataframe tbody tr th:only-of-type {\n",
              "        vertical-align: middle;\n",
              "    }\n",
              "\n",
              "    .dataframe tbody tr th {\n",
              "        vertical-align: top;\n",
              "    }\n",
              "\n",
              "    .dataframe thead th {\n",
              "        text-align: right;\n",
              "    }\n",
              "</style>\n",
              "<table border=\"1\" class=\"dataframe\">\n",
              "  <thead>\n",
              "    <tr style=\"text-align: right;\">\n",
              "      <th></th>\n",
              "      <th>Unnamed: 0</th>\n",
              "      <th>country</th>\n",
              "      <th>food_category</th>\n",
              "      <th>consumption</th>\n",
              "      <th>co2_emission</th>\n",
              "    </tr>\n",
              "  </thead>\n",
              "  <tbody>\n",
              "    <tr>\n",
              "      <th>0</th>\n",
              "      <td>1</td>\n",
              "      <td>Argentina</td>\n",
              "      <td>pork</td>\n",
              "      <td>10.51</td>\n",
              "      <td>37.20</td>\n",
              "    </tr>\n",
              "    <tr>\n",
              "      <th>1</th>\n",
              "      <td>2</td>\n",
              "      <td>Argentina</td>\n",
              "      <td>poultry</td>\n",
              "      <td>38.66</td>\n",
              "      <td>41.53</td>\n",
              "    </tr>\n",
              "    <tr>\n",
              "      <th>2</th>\n",
              "      <td>3</td>\n",
              "      <td>Argentina</td>\n",
              "      <td>beef</td>\n",
              "      <td>55.48</td>\n",
              "      <td>1712.00</td>\n",
              "    </tr>\n",
              "    <tr>\n",
              "      <th>3</th>\n",
              "      <td>4</td>\n",
              "      <td>Argentina</td>\n",
              "      <td>lamb_goat</td>\n",
              "      <td>1.56</td>\n",
              "      <td>54.63</td>\n",
              "    </tr>\n",
              "    <tr>\n",
              "      <th>4</th>\n",
              "      <td>5</td>\n",
              "      <td>Argentina</td>\n",
              "      <td>fish</td>\n",
              "      <td>4.36</td>\n",
              "      <td>6.96</td>\n",
              "    </tr>\n",
              "  </tbody>\n",
              "</table>\n",
              "</div>"
            ],
            "text/plain": [
              "   Unnamed: 0    country food_category  consumption  co2_emission\n",
              "0           1  Argentina          pork        10.51         37.20\n",
              "1           2  Argentina       poultry        38.66         41.53\n",
              "2           3  Argentina          beef        55.48       1712.00\n",
              "3           4  Argentina     lamb_goat         1.56         54.63\n",
              "4           5  Argentina          fish         4.36          6.96"
            ]
          },
          "execution_count": 4,
          "metadata": {},
          "output_type": "execute_result"
        }
      ],
      "source": [
        "# Read the downloaded CSV file\n",
        "df = pd.read_csv('data.csv')\n",
        "df.head()"
      ]
    },
    {
      "cell_type": "markdown",
      "metadata": {
        "id": "6OY66UmCxsIF"
      },
      "source": [
        "## Measures of Center\n",
        "\n",
        "Measures of center are statistical values that describe the central tendency of a dataset. They provide a summary measure that represents the entire dataset, allowing you to understand where the majority of your data points lie. Understanding these measures help to summarize and describe data effectively.\n",
        "\n",
        "### 1. Mean\n",
        "\n",
        "- The **mean**, often referred to as the average, is calculated by summing all the values in a dataset and dividing by the number of values. It is a commonly used measure of center.\n",
        "  \n",
        "  **Formula:**\n",
        "\n",
        "$$\n",
        "\\text{Mean} (\\mu) = \\frac{\\sum_{i=1}^{n} x_i}{n}\n",
        "$$\n",
        "\n",
        "**Where:**\n",
        "- \\( $x_i$ \\) represents each value in the dataset.\n",
        "- \\( $n$ \\) is the total number of values.\n",
        "\n",
        "**Example:**\n",
        "For the dataset [5, 10, 15, 20] \\:\n",
        "\n",
        "$$\n",
        "\\text{Mean} = \\frac{5 + 10 + 15 + 20}{4} = \\frac{50}{4} = 12.5\n",
        "$$\n",
        "\n",
        "\n",
        "\n",
        "- **Considerations:** The mean can be influenced by outliers. For instance, in the dataset [1, 2, 3, 100] \\, the mean is significantly higher than most data points due to the outlier \"100\".\n",
        "\n",
        "### 2. Median\n",
        "\n",
        "- The **median** is the middle value when the dataset is ordered from least to greatest. If the dataset has an even number of observations, the median is the average of the two middle values. The median is a robust measure of center that is less affected by outliers.\n",
        "  \n",
        "  **Steps to Calculate Median:**\n",
        "  1. Sort the data in ascending order.\n",
        "  2. If the number of observations \\($n$\\) is odd, the median is the middle number.\n",
        "  3. If \\($n$\\) is even, the median is the average of the two middle numbers.\n",
        "\n",
        "  **Example:**\n",
        "\n",
        "  For the dataset  [1, 3, 6, 3, 7, 9, 8] \\:\n",
        "  - Sorted: [1, 3, 3, 6, 7, 8, 9] \\\n",
        "  - The Median is $6$, the $4th$ value\n",
        "\n",
        "  For the dataset [1, 2, 3, 5, 4, 6]:\n",
        "  - Sorted: [1, 2, 3, 4, 5, 6] \\\n",
        "  - The Median is:\n",
        "    $$\n",
        "    \\text{Median} = \\frac{3 + 4}{2} = 3.5\n",
        "    $$\n",
        "\n",
        "### 3. Mode\n",
        "\n",
        "- The **mode** is the value that appears most frequently in a dataset. A dataset may have one mode, more than one mode (bimodal or multimodal), or no mode at all if all values occur with the same frequency.\n",
        "\n",
        "- **Example:** For the dataset [1, 2, 2, 3, 4] \\:\n",
        "  - Mode: \\( $2$ \\)\n",
        "\n",
        "  For the dataset [1, 1, 2, 2, 3, 4] \\:\n",
        "  - The Modes are \\( $1$ \\) and \\( $2$ \\)  $i.e$, bimodal\n",
        "\n",
        "\n",
        "\n",
        "### Summary of Measures of Center\n",
        "\n",
        "- **Mean:** Sensitive to outliers, best for symmetric/normal distributions.\n",
        "- **Median:** Robust against outliers, represents the center in skewed distributions.\n",
        "- **Mode:** Useful for categorical data, indicates the most common value.\n",
        "\n",
        "\n",
        "\n",
        "\n",
        "Understanding the measures of center is important in Data Science to help summarize data with a single representative value. They assist in comparing different datasets, understanding trends, and making informed decisions based on data.\n",
        "\n",
        "[<img src=\"https://drive.google.com/uc?id=1fYdyU8Ris_FP1FFD_6ianuo8LgNSmJ68\" alt=\"Measures of Center\" width=\"600\"/>](https://www.google.com/url?sa=i&url=https%3A%2F%2Ftowardsai.net%2Fp%2Fl%2Fpython-statistical-analysis-measures-of-central-tendency-and-dispersion&psig=AOvVaw3eoQpaEtgizlksZ5lHMCZQ&ust=1730369714671000&source=images&cd=vfe&opi=89978449&ved=0CBQQjRxqFwoTCPij1dTvtYkDFQAAAAAdAAAAABAE)\n",
        "\n"
      ]
    },
    {
      "cell_type": "code",
      "execution_count": 5,
      "metadata": {
        "colab": {
          "base_uri": "https://localhost:8080/",
          "height": 423
        },
        "id": "TndCO8F-xrbc",
        "outputId": "ebdb9c24-3710-457e-ad29-232828dede64"
      },
      "outputs": [
        {
          "data": {
            "text/html": [
              "<div>\n",
              "<style scoped>\n",
              "    .dataframe tbody tr th:only-of-type {\n",
              "        vertical-align: middle;\n",
              "    }\n",
              "\n",
              "    .dataframe tbody tr th {\n",
              "        vertical-align: top;\n",
              "    }\n",
              "\n",
              "    .dataframe thead th {\n",
              "        text-align: right;\n",
              "    }\n",
              "</style>\n",
              "<table border=\"1\" class=\"dataframe\">\n",
              "  <thead>\n",
              "    <tr style=\"text-align: right;\">\n",
              "      <th></th>\n",
              "      <th>Unnamed: 0</th>\n",
              "      <th>country</th>\n",
              "      <th>food_category</th>\n",
              "      <th>consumption</th>\n",
              "      <th>co2_emission</th>\n",
              "    </tr>\n",
              "  </thead>\n",
              "  <tbody>\n",
              "    <tr>\n",
              "      <th>0</th>\n",
              "      <td>1</td>\n",
              "      <td>Argentina</td>\n",
              "      <td>pork</td>\n",
              "      <td>10.51</td>\n",
              "      <td>37.20</td>\n",
              "    </tr>\n",
              "    <tr>\n",
              "      <th>1</th>\n",
              "      <td>2</td>\n",
              "      <td>Argentina</td>\n",
              "      <td>poultry</td>\n",
              "      <td>38.66</td>\n",
              "      <td>41.53</td>\n",
              "    </tr>\n",
              "    <tr>\n",
              "      <th>2</th>\n",
              "      <td>3</td>\n",
              "      <td>Argentina</td>\n",
              "      <td>beef</td>\n",
              "      <td>55.48</td>\n",
              "      <td>1712.00</td>\n",
              "    </tr>\n",
              "    <tr>\n",
              "      <th>3</th>\n",
              "      <td>4</td>\n",
              "      <td>Argentina</td>\n",
              "      <td>lamb_goat</td>\n",
              "      <td>1.56</td>\n",
              "      <td>54.63</td>\n",
              "    </tr>\n",
              "    <tr>\n",
              "      <th>4</th>\n",
              "      <td>5</td>\n",
              "      <td>Argentina</td>\n",
              "      <td>fish</td>\n",
              "      <td>4.36</td>\n",
              "      <td>6.96</td>\n",
              "    </tr>\n",
              "    <tr>\n",
              "      <th>...</th>\n",
              "      <td>...</td>\n",
              "      <td>...</td>\n",
              "      <td>...</td>\n",
              "      <td>...</td>\n",
              "      <td>...</td>\n",
              "    </tr>\n",
              "    <tr>\n",
              "      <th>1425</th>\n",
              "      <td>1426</td>\n",
              "      <td>Bangladesh</td>\n",
              "      <td>dairy</td>\n",
              "      <td>21.91</td>\n",
              "      <td>31.21</td>\n",
              "    </tr>\n",
              "    <tr>\n",
              "      <th>1426</th>\n",
              "      <td>1427</td>\n",
              "      <td>Bangladesh</td>\n",
              "      <td>wheat</td>\n",
              "      <td>17.47</td>\n",
              "      <td>3.33</td>\n",
              "    </tr>\n",
              "    <tr>\n",
              "      <th>1427</th>\n",
              "      <td>1428</td>\n",
              "      <td>Bangladesh</td>\n",
              "      <td>rice</td>\n",
              "      <td>171.73</td>\n",
              "      <td>219.76</td>\n",
              "    </tr>\n",
              "    <tr>\n",
              "      <th>1428</th>\n",
              "      <td>1429</td>\n",
              "      <td>Bangladesh</td>\n",
              "      <td>soybeans</td>\n",
              "      <td>0.61</td>\n",
              "      <td>0.27</td>\n",
              "    </tr>\n",
              "    <tr>\n",
              "      <th>1429</th>\n",
              "      <td>1430</td>\n",
              "      <td>Bangladesh</td>\n",
              "      <td>nuts</td>\n",
              "      <td>0.72</td>\n",
              "      <td>1.27</td>\n",
              "    </tr>\n",
              "  </tbody>\n",
              "</table>\n",
              "<p>1430 rows × 5 columns</p>\n",
              "</div>"
            ],
            "text/plain": [
              "      Unnamed: 0     country food_category  consumption  co2_emission\n",
              "0              1   Argentina          pork        10.51         37.20\n",
              "1              2   Argentina       poultry        38.66         41.53\n",
              "2              3   Argentina          beef        55.48       1712.00\n",
              "3              4   Argentina     lamb_goat         1.56         54.63\n",
              "4              5   Argentina          fish         4.36          6.96\n",
              "...          ...         ...           ...          ...           ...\n",
              "1425        1426  Bangladesh         dairy        21.91         31.21\n",
              "1426        1427  Bangladesh         wheat        17.47          3.33\n",
              "1427        1428  Bangladesh          rice       171.73        219.76\n",
              "1428        1429  Bangladesh      soybeans         0.61          0.27\n",
              "1429        1430  Bangladesh          nuts         0.72          1.27\n",
              "\n",
              "[1430 rows x 5 columns]"
            ]
          },
          "execution_count": 5,
          "metadata": {},
          "output_type": "execute_result"
        }
      ],
      "source": [
        "df"
      ]
    },
    {
      "cell_type": "code",
      "execution_count": 6,
      "metadata": {
        "id": "VGTBzHYpyL1V"
      },
      "outputs": [],
      "source": [
        "df.drop('Unnamed: 0', axis = 1, inplace = True)"
      ]
    },
    {
      "cell_type": "code",
      "execution_count": 7,
      "metadata": {
        "colab": {
          "base_uri": "https://localhost:8080/",
          "height": 423
        },
        "id": "yKznOz50r2G9",
        "outputId": "54134ade-eb7e-459d-8cd0-6fe9bbbd0b89"
      },
      "outputs": [
        {
          "data": {
            "text/html": [
              "<div>\n",
              "<style scoped>\n",
              "    .dataframe tbody tr th:only-of-type {\n",
              "        vertical-align: middle;\n",
              "    }\n",
              "\n",
              "    .dataframe tbody tr th {\n",
              "        vertical-align: top;\n",
              "    }\n",
              "\n",
              "    .dataframe thead th {\n",
              "        text-align: right;\n",
              "    }\n",
              "</style>\n",
              "<table border=\"1\" class=\"dataframe\">\n",
              "  <thead>\n",
              "    <tr style=\"text-align: right;\">\n",
              "      <th></th>\n",
              "      <th>country</th>\n",
              "      <th>food_category</th>\n",
              "      <th>consumption</th>\n",
              "      <th>co2_emission</th>\n",
              "    </tr>\n",
              "  </thead>\n",
              "  <tbody>\n",
              "    <tr>\n",
              "      <th>0</th>\n",
              "      <td>Argentina</td>\n",
              "      <td>pork</td>\n",
              "      <td>10.51</td>\n",
              "      <td>37.20</td>\n",
              "    </tr>\n",
              "    <tr>\n",
              "      <th>1</th>\n",
              "      <td>Argentina</td>\n",
              "      <td>poultry</td>\n",
              "      <td>38.66</td>\n",
              "      <td>41.53</td>\n",
              "    </tr>\n",
              "    <tr>\n",
              "      <th>2</th>\n",
              "      <td>Argentina</td>\n",
              "      <td>beef</td>\n",
              "      <td>55.48</td>\n",
              "      <td>1712.00</td>\n",
              "    </tr>\n",
              "    <tr>\n",
              "      <th>3</th>\n",
              "      <td>Argentina</td>\n",
              "      <td>lamb_goat</td>\n",
              "      <td>1.56</td>\n",
              "      <td>54.63</td>\n",
              "    </tr>\n",
              "    <tr>\n",
              "      <th>4</th>\n",
              "      <td>Argentina</td>\n",
              "      <td>fish</td>\n",
              "      <td>4.36</td>\n",
              "      <td>6.96</td>\n",
              "    </tr>\n",
              "    <tr>\n",
              "      <th>...</th>\n",
              "      <td>...</td>\n",
              "      <td>...</td>\n",
              "      <td>...</td>\n",
              "      <td>...</td>\n",
              "    </tr>\n",
              "    <tr>\n",
              "      <th>1425</th>\n",
              "      <td>Bangladesh</td>\n",
              "      <td>dairy</td>\n",
              "      <td>21.91</td>\n",
              "      <td>31.21</td>\n",
              "    </tr>\n",
              "    <tr>\n",
              "      <th>1426</th>\n",
              "      <td>Bangladesh</td>\n",
              "      <td>wheat</td>\n",
              "      <td>17.47</td>\n",
              "      <td>3.33</td>\n",
              "    </tr>\n",
              "    <tr>\n",
              "      <th>1427</th>\n",
              "      <td>Bangladesh</td>\n",
              "      <td>rice</td>\n",
              "      <td>171.73</td>\n",
              "      <td>219.76</td>\n",
              "    </tr>\n",
              "    <tr>\n",
              "      <th>1428</th>\n",
              "      <td>Bangladesh</td>\n",
              "      <td>soybeans</td>\n",
              "      <td>0.61</td>\n",
              "      <td>0.27</td>\n",
              "    </tr>\n",
              "    <tr>\n",
              "      <th>1429</th>\n",
              "      <td>Bangladesh</td>\n",
              "      <td>nuts</td>\n",
              "      <td>0.72</td>\n",
              "      <td>1.27</td>\n",
              "    </tr>\n",
              "  </tbody>\n",
              "</table>\n",
              "<p>1430 rows × 4 columns</p>\n",
              "</div>"
            ],
            "text/plain": [
              "         country food_category  consumption  co2_emission\n",
              "0      Argentina          pork        10.51         37.20\n",
              "1      Argentina       poultry        38.66         41.53\n",
              "2      Argentina          beef        55.48       1712.00\n",
              "3      Argentina     lamb_goat         1.56         54.63\n",
              "4      Argentina          fish         4.36          6.96\n",
              "...          ...           ...          ...           ...\n",
              "1425  Bangladesh         dairy        21.91         31.21\n",
              "1426  Bangladesh         wheat        17.47          3.33\n",
              "1427  Bangladesh          rice       171.73        219.76\n",
              "1428  Bangladesh      soybeans         0.61          0.27\n",
              "1429  Bangladesh          nuts         0.72          1.27\n",
              "\n",
              "[1430 rows x 4 columns]"
            ]
          },
          "execution_count": 7,
          "metadata": {},
          "output_type": "execute_result"
        }
      ],
      "source": [
        "df"
      ]
    },
    {
      "cell_type": "code",
      "execution_count": 8,
      "metadata": {
        "colab": {
          "base_uri": "https://localhost:8080/",
          "height": 394
        },
        "id": "HFnW-RCyyOyr",
        "outputId": "6ec20e43-6978-4331-8fae-3c6f342bb985"
      },
      "outputs": [
        {
          "data": {
            "text/html": [
              "<div>\n",
              "<style scoped>\n",
              "    .dataframe tbody tr th:only-of-type {\n",
              "        vertical-align: middle;\n",
              "    }\n",
              "\n",
              "    .dataframe tbody tr th {\n",
              "        vertical-align: top;\n",
              "    }\n",
              "\n",
              "    .dataframe thead th {\n",
              "        text-align: right;\n",
              "    }\n",
              "</style>\n",
              "<table border=\"1\" class=\"dataframe\">\n",
              "  <thead>\n",
              "    <tr style=\"text-align: right;\">\n",
              "      <th></th>\n",
              "      <th>country</th>\n",
              "      <th>food_category</th>\n",
              "      <th>consumption</th>\n",
              "      <th>co2_emission</th>\n",
              "    </tr>\n",
              "  </thead>\n",
              "  <tbody>\n",
              "    <tr>\n",
              "      <th>count</th>\n",
              "      <td>1430</td>\n",
              "      <td>1430</td>\n",
              "      <td>1430.000000</td>\n",
              "      <td>1430.000000</td>\n",
              "    </tr>\n",
              "    <tr>\n",
              "      <th>unique</th>\n",
              "      <td>130</td>\n",
              "      <td>11</td>\n",
              "      <td>NaN</td>\n",
              "      <td>NaN</td>\n",
              "    </tr>\n",
              "    <tr>\n",
              "      <th>top</th>\n",
              "      <td>Argentina</td>\n",
              "      <td>pork</td>\n",
              "      <td>NaN</td>\n",
              "      <td>NaN</td>\n",
              "    </tr>\n",
              "    <tr>\n",
              "      <th>freq</th>\n",
              "      <td>11</td>\n",
              "      <td>130</td>\n",
              "      <td>NaN</td>\n",
              "      <td>NaN</td>\n",
              "    </tr>\n",
              "    <tr>\n",
              "      <th>mean</th>\n",
              "      <td>NaN</td>\n",
              "      <td>NaN</td>\n",
              "      <td>28.110406</td>\n",
              "      <td>74.383993</td>\n",
              "    </tr>\n",
              "    <tr>\n",
              "      <th>std</th>\n",
              "      <td>NaN</td>\n",
              "      <td>NaN</td>\n",
              "      <td>49.818044</td>\n",
              "      <td>152.098566</td>\n",
              "    </tr>\n",
              "    <tr>\n",
              "      <th>min</th>\n",
              "      <td>NaN</td>\n",
              "      <td>NaN</td>\n",
              "      <td>0.000000</td>\n",
              "      <td>0.000000</td>\n",
              "    </tr>\n",
              "    <tr>\n",
              "      <th>25%</th>\n",
              "      <td>NaN</td>\n",
              "      <td>NaN</td>\n",
              "      <td>2.365000</td>\n",
              "      <td>5.210000</td>\n",
              "    </tr>\n",
              "    <tr>\n",
              "      <th>50%</th>\n",
              "      <td>NaN</td>\n",
              "      <td>NaN</td>\n",
              "      <td>8.890000</td>\n",
              "      <td>16.530000</td>\n",
              "    </tr>\n",
              "    <tr>\n",
              "      <th>75%</th>\n",
              "      <td>NaN</td>\n",
              "      <td>NaN</td>\n",
              "      <td>28.132500</td>\n",
              "      <td>62.597500</td>\n",
              "    </tr>\n",
              "    <tr>\n",
              "      <th>max</th>\n",
              "      <td>NaN</td>\n",
              "      <td>NaN</td>\n",
              "      <td>430.760000</td>\n",
              "      <td>1712.000000</td>\n",
              "    </tr>\n",
              "  </tbody>\n",
              "</table>\n",
              "</div>"
            ],
            "text/plain": [
              "          country food_category  consumption  co2_emission\n",
              "count        1430          1430  1430.000000   1430.000000\n",
              "unique        130            11          NaN           NaN\n",
              "top     Argentina          pork          NaN           NaN\n",
              "freq           11           130          NaN           NaN\n",
              "mean          NaN           NaN    28.110406     74.383993\n",
              "std           NaN           NaN    49.818044    152.098566\n",
              "min           NaN           NaN     0.000000      0.000000\n",
              "25%           NaN           NaN     2.365000      5.210000\n",
              "50%           NaN           NaN     8.890000     16.530000\n",
              "75%           NaN           NaN    28.132500     62.597500\n",
              "max           NaN           NaN   430.760000   1712.000000"
            ]
          },
          "execution_count": 8,
          "metadata": {},
          "output_type": "execute_result"
        }
      ],
      "source": [
        "df.describe(include = 'all')"
      ]
    },
    {
      "cell_type": "code",
      "execution_count": 19,
      "metadata": {
        "id": "TefXfs8RyRer"
      },
      "outputs": [],
      "source": [
        "# filter for Belgium \n",
        "\n",
        "be_consumption = df[df['country'] == 'Belgium']"
      ]
    },
    {
      "cell_type": "code",
      "execution_count": 11,
      "metadata": {
        "colab": {
          "base_uri": "https://localhost:8080/",
          "height": 394
        },
        "id": "_3irOhRDuTEM",
        "outputId": "27e1b8e2-c7ed-40ab-8fe3-3d0b2b79b88e"
      },
      "outputs": [
        {
          "data": {
            "text/html": [
              "<div>\n",
              "<style scoped>\n",
              "    .dataframe tbody tr th:only-of-type {\n",
              "        vertical-align: middle;\n",
              "    }\n",
              "\n",
              "    .dataframe tbody tr th {\n",
              "        vertical-align: top;\n",
              "    }\n",
              "\n",
              "    .dataframe thead th {\n",
              "        text-align: right;\n",
              "    }\n",
              "</style>\n",
              "<table border=\"1\" class=\"dataframe\">\n",
              "  <thead>\n",
              "    <tr style=\"text-align: right;\">\n",
              "      <th></th>\n",
              "      <th>country</th>\n",
              "      <th>food_category</th>\n",
              "      <th>consumption</th>\n",
              "      <th>co2_emission</th>\n",
              "    </tr>\n",
              "  </thead>\n",
              "  <tbody>\n",
              "    <tr>\n",
              "      <th>396</th>\n",
              "      <td>Belgium</td>\n",
              "      <td>pork</td>\n",
              "      <td>38.65</td>\n",
              "      <td>136.80</td>\n",
              "    </tr>\n",
              "    <tr>\n",
              "      <th>397</th>\n",
              "      <td>Belgium</td>\n",
              "      <td>poultry</td>\n",
              "      <td>12.20</td>\n",
              "      <td>13.11</td>\n",
              "    </tr>\n",
              "    <tr>\n",
              "      <th>398</th>\n",
              "      <td>Belgium</td>\n",
              "      <td>beef</td>\n",
              "      <td>15.63</td>\n",
              "      <td>482.31</td>\n",
              "    </tr>\n",
              "    <tr>\n",
              "      <th>399</th>\n",
              "      <td>Belgium</td>\n",
              "      <td>lamb_goat</td>\n",
              "      <td>1.32</td>\n",
              "      <td>46.23</td>\n",
              "    </tr>\n",
              "    <tr>\n",
              "      <th>400</th>\n",
              "      <td>Belgium</td>\n",
              "      <td>fish</td>\n",
              "      <td>18.97</td>\n",
              "      <td>30.29</td>\n",
              "    </tr>\n",
              "    <tr>\n",
              "      <th>401</th>\n",
              "      <td>Belgium</td>\n",
              "      <td>eggs</td>\n",
              "      <td>12.59</td>\n",
              "      <td>11.57</td>\n",
              "    </tr>\n",
              "    <tr>\n",
              "      <th>402</th>\n",
              "      <td>Belgium</td>\n",
              "      <td>dairy</td>\n",
              "      <td>236.19</td>\n",
              "      <td>336.43</td>\n",
              "    </tr>\n",
              "    <tr>\n",
              "      <th>403</th>\n",
              "      <td>Belgium</td>\n",
              "      <td>wheat</td>\n",
              "      <td>111.91</td>\n",
              "      <td>21.34</td>\n",
              "    </tr>\n",
              "    <tr>\n",
              "      <th>404</th>\n",
              "      <td>Belgium</td>\n",
              "      <td>rice</td>\n",
              "      <td>8.61</td>\n",
              "      <td>11.02</td>\n",
              "    </tr>\n",
              "    <tr>\n",
              "      <th>405</th>\n",
              "      <td>Belgium</td>\n",
              "      <td>soybeans</td>\n",
              "      <td>0.07</td>\n",
              "      <td>0.03</td>\n",
              "    </tr>\n",
              "    <tr>\n",
              "      <th>406</th>\n",
              "      <td>Belgium</td>\n",
              "      <td>nuts</td>\n",
              "      <td>7.32</td>\n",
              "      <td>12.96</td>\n",
              "    </tr>\n",
              "  </tbody>\n",
              "</table>\n",
              "</div>"
            ],
            "text/plain": [
              "     country food_category  consumption  co2_emission\n",
              "396  Belgium          pork        38.65        136.80\n",
              "397  Belgium       poultry        12.20         13.11\n",
              "398  Belgium          beef        15.63        482.31\n",
              "399  Belgium     lamb_goat         1.32         46.23\n",
              "400  Belgium          fish        18.97         30.29\n",
              "401  Belgium          eggs        12.59         11.57\n",
              "402  Belgium         dairy       236.19        336.43\n",
              "403  Belgium         wheat       111.91         21.34\n",
              "404  Belgium          rice         8.61         11.02\n",
              "405  Belgium      soybeans         0.07          0.03\n",
              "406  Belgium          nuts         7.32         12.96"
            ]
          },
          "execution_count": 11,
          "metadata": {},
          "output_type": "execute_result"
        }
      ],
      "source": [
        "be_consumption"
      ]
    },
    {
      "cell_type": "code",
      "execution_count": 14,
      "metadata": {
        "id": "FXnouJKRuqF8"
      },
      "outputs": [],
      "source": [
        "be_consume = be_consumption['consumption']        # this assigns only Belgium countries"
      ]
    },
    {
      "cell_type": "code",
      "execution_count": 15,
      "metadata": {
        "colab": {
          "base_uri": "https://localhost:8080/"
        },
        "id": "viHOG9qZyVNc",
        "outputId": "b79f1f33-77e1-4f3b-a2cd-90c1ce0d2c81"
      },
      "outputs": [
        {
          "name": "stdout",
          "output_type": "stream",
          "text": [
            "42.13272727272727\n"
          ]
        }
      ],
      "source": [
        "# Calculate mean and median consumption in Belgium\n",
        "\n",
        "print(np.mean(be_consume))"
      ]
    },
    {
      "cell_type": "code",
      "execution_count": 18,
      "metadata": {
        "colab": {
          "base_uri": "https://localhost:8080/"
        },
        "id": "caGLk9-byYA8",
        "outputId": "7b0c4376-e05d-4c68-90a1-91dc878d57b1"
      },
      "outputs": [
        {
          "name": "stdout",
          "output_type": "stream",
          "text": [
            "12.59\n"
          ]
        }
      ],
      "source": [
        "print(np.median(be_consume))"
      ]
    },
    {
      "cell_type": "code",
      "execution_count": 20,
      "metadata": {
        "id": "-uQ_WsUMycWt"
      },
      "outputs": [],
      "source": [
        "# filter for USA\n",
        "usa_consumption = df[df['country'] == 'USA']"
      ]
    },
    {
      "cell_type": "code",
      "execution_count": 21,
      "metadata": {
        "colab": {
          "base_uri": "https://localhost:8080/",
          "height": 394
        },
        "id": "yl_62_lqvIzr",
        "outputId": "4b5ea8dd-977b-445c-8ec6-594cf9beaa5c"
      },
      "outputs": [
        {
          "data": {
            "text/html": [
              "<div>\n",
              "<style scoped>\n",
              "    .dataframe tbody tr th:only-of-type {\n",
              "        vertical-align: middle;\n",
              "    }\n",
              "\n",
              "    .dataframe tbody tr th {\n",
              "        vertical-align: top;\n",
              "    }\n",
              "\n",
              "    .dataframe thead th {\n",
              "        text-align: right;\n",
              "    }\n",
              "</style>\n",
              "<table border=\"1\" class=\"dataframe\">\n",
              "  <thead>\n",
              "    <tr style=\"text-align: right;\">\n",
              "      <th></th>\n",
              "      <th>country</th>\n",
              "      <th>food_category</th>\n",
              "      <th>consumption</th>\n",
              "      <th>co2_emission</th>\n",
              "    </tr>\n",
              "  </thead>\n",
              "  <tbody>\n",
              "    <tr>\n",
              "      <th>55</th>\n",
              "      <td>USA</td>\n",
              "      <td>pork</td>\n",
              "      <td>27.64</td>\n",
              "      <td>97.83</td>\n",
              "    </tr>\n",
              "    <tr>\n",
              "      <th>56</th>\n",
              "      <td>USA</td>\n",
              "      <td>poultry</td>\n",
              "      <td>50.01</td>\n",
              "      <td>53.72</td>\n",
              "    </tr>\n",
              "    <tr>\n",
              "      <th>57</th>\n",
              "      <td>USA</td>\n",
              "      <td>beef</td>\n",
              "      <td>36.24</td>\n",
              "      <td>1118.29</td>\n",
              "    </tr>\n",
              "    <tr>\n",
              "      <th>58</th>\n",
              "      <td>USA</td>\n",
              "      <td>lamb_goat</td>\n",
              "      <td>0.43</td>\n",
              "      <td>15.06</td>\n",
              "    </tr>\n",
              "    <tr>\n",
              "      <th>59</th>\n",
              "      <td>USA</td>\n",
              "      <td>fish</td>\n",
              "      <td>12.35</td>\n",
              "      <td>19.72</td>\n",
              "    </tr>\n",
              "    <tr>\n",
              "      <th>60</th>\n",
              "      <td>USA</td>\n",
              "      <td>eggs</td>\n",
              "      <td>14.58</td>\n",
              "      <td>13.39</td>\n",
              "    </tr>\n",
              "    <tr>\n",
              "      <th>61</th>\n",
              "      <td>USA</td>\n",
              "      <td>dairy</td>\n",
              "      <td>254.69</td>\n",
              "      <td>362.78</td>\n",
              "    </tr>\n",
              "    <tr>\n",
              "      <th>62</th>\n",
              "      <td>USA</td>\n",
              "      <td>wheat</td>\n",
              "      <td>80.43</td>\n",
              "      <td>15.34</td>\n",
              "    </tr>\n",
              "    <tr>\n",
              "      <th>63</th>\n",
              "      <td>USA</td>\n",
              "      <td>rice</td>\n",
              "      <td>6.88</td>\n",
              "      <td>8.80</td>\n",
              "    </tr>\n",
              "    <tr>\n",
              "      <th>64</th>\n",
              "      <td>USA</td>\n",
              "      <td>soybeans</td>\n",
              "      <td>0.04</td>\n",
              "      <td>0.02</td>\n",
              "    </tr>\n",
              "    <tr>\n",
              "      <th>65</th>\n",
              "      <td>USA</td>\n",
              "      <td>nuts</td>\n",
              "      <td>7.86</td>\n",
              "      <td>13.91</td>\n",
              "    </tr>\n",
              "  </tbody>\n",
              "</table>\n",
              "</div>"
            ],
            "text/plain": [
              "   country food_category  consumption  co2_emission\n",
              "55     USA          pork        27.64         97.83\n",
              "56     USA       poultry        50.01         53.72\n",
              "57     USA          beef        36.24       1118.29\n",
              "58     USA     lamb_goat         0.43         15.06\n",
              "59     USA          fish        12.35         19.72\n",
              "60     USA          eggs        14.58         13.39\n",
              "61     USA         dairy       254.69        362.78\n",
              "62     USA         wheat        80.43         15.34\n",
              "63     USA          rice         6.88          8.80\n",
              "64     USA      soybeans         0.04          0.02\n",
              "65     USA          nuts         7.86         13.91"
            ]
          },
          "execution_count": 21,
          "metadata": {},
          "output_type": "execute_result"
        }
      ],
      "source": [
        "usa_consumption"
      ]
    },
    {
      "cell_type": "code",
      "execution_count": 23,
      "metadata": {
        "id": "yzr0QURZvQA-"
      },
      "outputs": [],
      "source": [
        "us_consume = usa_consumption['consumption']     # assign USA"
      ]
    },
    {
      "cell_type": "code",
      "execution_count": 24,
      "metadata": {
        "colab": {
          "base_uri": "https://localhost:8080/",
          "height": 429
        },
        "id": "TH7v19CcvTyb",
        "outputId": "a609aac6-39d0-46a6-fd2c-3b8c97ab84c8"
      },
      "outputs": [
        {
          "data": {
            "text/plain": [
              "55     27.64\n",
              "56     50.01\n",
              "57     36.24\n",
              "58      0.43\n",
              "59     12.35\n",
              "60     14.58\n",
              "61    254.69\n",
              "62     80.43\n",
              "63      6.88\n",
              "64      0.04\n",
              "65      7.86\n",
              "Name: consumption, dtype: float64"
            ]
          },
          "execution_count": 24,
          "metadata": {},
          "output_type": "execute_result"
        }
      ],
      "source": [
        "us_consume"
      ]
    },
    {
      "cell_type": "code",
      "execution_count": 25,
      "metadata": {
        "colab": {
          "base_uri": "https://localhost:8080/"
        },
        "id": "zaLvcqHtyd6Q",
        "outputId": "aa424b6d-187e-4c9f-844f-5006aeababbd"
      },
      "outputs": [
        {
          "name": "stdout",
          "output_type": "stream",
          "text": [
            "44.650000000000006\n"
          ]
        }
      ],
      "source": [
        "# Calculate m)an and median consumption in USA\n",
        "print(np.mean(us_consume))\n"
      ]
    },
    {
      "cell_type": "code",
      "execution_count": 26,
      "metadata": {
        "colab": {
          "base_uri": "https://localhost:8080/"
        },
        "id": "t6HgQqTkyfK5",
        "outputId": "f52204f5-5ee4-4d44-8ae1-c7452fdf79f8"
      },
      "outputs": [
        {
          "name": "stdout",
          "output_type": "stream",
          "text": [
            "14.58\n"
          ]
        }
      ],
      "source": [
        "print(np.median(us_consume))"
      ]
    },
    {
      "cell_type": "code",
      "execution_count": 29,
      "metadata": {
        "colab": {
          "base_uri": "https://localhost:8080/",
          "height": 489
        },
        "id": "YeYwtn8Jyh1F",
        "outputId": "1e0f19f0-4e26-41d1-adf9-dca19fd1d33a"
      },
      "outputs": [
        {
          "data": {
            "text/plain": [
              "country\n",
              "Argentina       11\n",
              "Australia       11\n",
              "Albania         11\n",
              "Iceland         11\n",
              "New Zealand     11\n",
              "                ..\n",
              "Sierra Leone    11\n",
              "Sri Lanka       11\n",
              "Indonesia       11\n",
              "Liberia         11\n",
              "Bangladesh      11\n",
              "Name: count, Length: 130, dtype: int64"
            ]
          },
          "execution_count": 29,
          "metadata": {},
          "output_type": "execute_result"
        }
      ],
      "source": [
        "df['country'].value_counts()"
      ]
    },
    {
      "cell_type": "code",
      "execution_count": 30,
      "metadata": {
        "id": "nZoGDnCNykm1"
      },
      "outputs": [],
      "source": [
        "# Check the mode of the country column\n",
        "mode_country = df['country'].mode()"
      ]
    },
    {
      "cell_type": "code",
      "execution_count": 31,
      "metadata": {
        "colab": {
          "base_uri": "https://localhost:8080/"
        },
        "id": "T1v5csUtyl2s",
        "outputId": "9ec3a05e-8e4a-4d54-cb37-638137b3a237"
      },
      "outputs": [
        {
          "name": "stdout",
          "output_type": "stream",
          "text": [
            "Mode Country: 0        Albania\n",
            "1        Algeria\n",
            "2         Angola\n",
            "3      Argentina\n",
            "4        Armenia\n",
            "         ...    \n",
            "125      Uruguay\n",
            "126    Venezuela\n",
            "127      Vietnam\n",
            "128       Zambia\n",
            "129     Zimbabwe\n",
            "Name: country, Length: 130, dtype: object\n"
          ]
        }
      ],
      "source": [
        "print(\"Mode Country:\", mode_country)"
      ]
    }
  ],
  "metadata": {
    "colab": {
      "provenance": []
    },
    "kernelspec": {
      "display_name": "new_module",
      "language": "python",
      "name": "python3"
    },
    "language_info": {
      "codemirror_mode": {
        "name": "ipython",
        "version": 3
      },
      "file_extension": ".py",
      "mimetype": "text/x-python",
      "name": "python",
      "nbconvert_exporter": "python",
      "pygments_lexer": "ipython3",
      "version": "3.13.7"
    }
  },
  "nbformat": 4,
  "nbformat_minor": 0
}
