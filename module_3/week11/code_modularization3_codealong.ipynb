{
 "cells": [
  {
   "cell_type": "markdown",
   "id": "eae0aab8",
   "metadata": {},
   "source": [
    "#### Modularizing Your Codes 3 (Object Oriented Programming)"
   ]
  },
  {
   "cell_type": "markdown",
   "id": "289788b5",
   "metadata": {},
   "source": [
    "#### Table of Contents\n",
    "\n",
    "1.  Introduction to Classes\n",
    "2.  Why classes are important\n",
    "3.  Basic class structure\n",
    "4.  Objects and Instances\n",
    "5.  The **init** Method\n",
    "6.  Understanding `self`\n",
    "7.  Attributues\n",
    "8.  Methods\n",
    "9.  Other important methods\n",
    "10. Simple Examples\n",
    "11. Intermediate Examples\n",
    "12. Complex Examples\n",
    "13. Best practices"
   ]
  },
  {
   "cell_type": "markdown",
   "id": "f5632269",
   "metadata": {},
   "source": [
    "**What is a Class?**\n",
    "\n",
    "A class is like a blueprint or template that defines what something should look like and what it can do. Think of it as a meat pie cutter - it defines the shape and characteristics, but it's not the actual meat pie itself.\n",
    "\n",
    "-   Take a look at this;\n",
    "    -   A house blueprint shows where rooms go, but it's not a house you can live in.\n",
    "    -   A car design document describes features, but you can't drive the design.\n",
    "    -   A recipe tells you how to make a cade, but the recipe is not edible."
   ]
  },
  {
   "cell_type": "markdown",
   "id": "7704b5d1",
   "metadata": {},
   "source": [
    "**Object/Instance**\n",
    "\n",
    "**What is an Object/Instance?**\n",
    "\n",
    "An object (also called an insurance) is a specific, real item created from a class blueprint. It's the actual \"thing\" you can use and interect with.\n",
    "\n",
    "-   Take a look at this;\n",
    "    -   Your actual house built from the blueprint\n",
    "    -   A specific Toyota Camry manufactured from car designs.\n",
    "    -   The delicious cake baked from the recipe."
   ]
  },
  {
   "cell_type": "markdown",
   "id": "afb07aa1",
   "metadata": {},
   "source": [
    "#### Key Characteristics of Classes\n",
    "\n",
    "-   Encapsulation: Groups related data and functions together\n",
    "-   Abstraction: Hides complex implementation details\n",
    "-   Inheritance: can create new clases based on existing ones (reusability - write once, use many times)"
   ]
  },
  {
   "cell_type": "markdown",
   "id": "6b3dda69",
   "metadata": {},
   "source": [
    "#### Why Classes are Important\n",
    "\n",
    "-   Classes help us:\n",
    "    -   Organize Code: keep related data and functions together\n",
    "    -   Model Real World: Represent real-world entities in code\n",
    "    -   Reduce Repetitioni: Avoid writing the same code multiple times\n",
    "    -   Maintain Code: Easier to update and fix bugs\n",
    "    -   Scale Applications: Build larger, more complex programs"
   ]
  },
  {
   "cell_type": "markdown",
   "id": "f121e45c",
   "metadata": {},
   "source": [
    "**The Foundation**\n",
    "\n",
    "-   `__init__` and `self`\n",
    "    -   Before we dive into attributes and methods, we need to understand two special concepts that make everything work: **init** and **self**.\n",
    "\n",
    "\n",
    "    **What is init?**\n",
    "\n",
    "    `__init__` is a special method (called a constructor) that automatically runs when you create a new object. Think of it as the \"birth certificate\" process - it sets up all the basic information about the new object.\n",
    "\n",
    "    **Real-World Analogy**\n",
    "\n",
    "    -   When a baby is born in Nigeria, certain things happen automatically:\n",
    "        -   Birth certificate is created\n",
    "        -   Name is asisgned\n",
    "        -   Parents are recorded\n",
    "        -   Date of birth is recorded\n",
    "    -   Similarly, when an object is \"born\" (created), `__init__` automatically:\n",
    "        -   Sets up the object's attributes\n",
    "        -   Assigns initial values\n",
    "        -   Prepares the object for use"
   ]
  },
  {
   "cell_type": "code",
   "execution_count": 1,
   "id": "fd956976",
   "metadata": {},
   "outputs": [],
   "source": [
    "class Student:\n",
    "    def __init__(self, name, course, level):    # this runs automatically\n",
    "        print(\"Creating a new student....\")\n",
    "        self.name = name,\n",
    "        self.course = course, \n",
    "        self.level = level \n",
    "        print(f\"Student {name} has been created!\")"
   ]
  },
  {
   "cell_type": "code",
   "execution_count": null,
   "id": "69e82441",
   "metadata": {},
   "outputs": [
    {
     "name": "stdout",
     "output_type": "stream",
     "text": [
      "Creating a new student....\n",
      "Student Kemi Adebayo has been created!\n"
     ]
    }
   ],
   "source": [
    "# when you create a student, __init__ runs automatically\n",
    "kemi = Student(\"Kemi Adebayo\", \"Computer Science\", 300)"
   ]
  },
  {
   "cell_type": "markdown",
   "id": "f91d6ec8",
   "metadata": {},
   "source": [
    "**What is Self**\n",
    "\n",
    "`self` is a reference to the specific object you're working with. It's like saying \"this particular student\" or \"this specific bank account.\"\n",
    "\n",
    "**Real-World Analogy**\n",
    "\n",
    "-   In a classroom with many students:\n",
    "    -   When the teacher says \"Kemi, what is your course?\" - \"your\" refers to Kemi specifically\n",
    "    -   When the teachers says \"Chinedu, what is your level?\" - \"your\" refers to Chinedu specifically\n",
    "\n",
    "-   In programming:\n",
    "    -   self.name means \"this specific object's name\"\n",
    "    -   self.course means \"this specific object's course\"\n"
   ]
  },
  {
   "cell_type": "markdown",
   "id": "fea99e53",
   "metadata": {},
   "source": [
    "**Visual Illustration**\n",
    "```\n",
    "Class: Student (The Template)\n",
    "├── def __init__(self, name, course):\n",
    "│   ├── self.name = name      ← \"Give THIS object a name\"\n",
    "│   └── self.course = course  ← \"Give THIS object a course\"\n",
    "\n",
    "Creating Objects:\n",
    "├── kemi = Student(\"Kemi\", \"CS\")\n",
    "│   └── self refers to kemi → kemi.name = \"Kemi\"\n",
    "├── chinedu = Student(\"Chinedu\", \"Engineering\") \n",
    "│   └── self refers to chinedu → chinedu.name = \"Chinedu\"\n",
    "└── fatima = Student(\"Fatima\", \"Medicine\")\n",
    "    └── self refers to fatima → fatima.name = \"Fatima\"\n",
    "\n",
    "```"
   ]
  },
  {
   "cell_type": "markdown",
   "id": "0cf1adac",
   "metadata": {},
   "source": [
    "**How init and self Work Together**"
   ]
  },
  {
   "cell_type": "code",
   "execution_count": 3,
   "id": "27deb00f",
   "metadata": {},
   "outputs": [],
   "source": [
    "class NigerianStudent:\n",
    "    def __init__(self, name, state, course):\n",
    "        print(f\"Step 1: Creating student object...\")\n",
    "        self.name = name,       #step 2: assign name to THIS object\n",
    "        self.state_of_origin = state,    # assign state to THIS object\n",
    "        self.course = course,       # assign course to THIS object\n",
    "        self.student_id = self.generate_id()    # generate ID for THIS object\n",
    "        print(f\"Step 6: {self.name} from {self.state_of_origin} is ready!\")\n",
    "\n",
    "    def generate_id(self):\n",
    "        import random \n",
    "        return f\"UNISAIL{random.randint(1000, 9999)}\""
   ]
  },
  {
   "cell_type": "code",
   "execution_count": 4,
   "id": "190ce725",
   "metadata": {},
   "outputs": [
    {
     "name": "stdout",
     "output_type": "stream",
     "text": [
      "Step 1: Creating student object...\n",
      "Step 6: ('Ayo Daniel',) from ('Lagos',) is ready!\n"
     ]
    }
   ],
   "source": [
    "# when you create an object, here's what happens:\n",
    "ayo = NigerianStudent(\"Ayo Daniel\", \"Lagos\", \"Street Statistics\")"
   ]
  },
  {
   "cell_type": "code",
   "execution_count": 5,
   "id": "6171c702",
   "metadata": {},
   "outputs": [
    {
     "name": "stdout",
     "output_type": "stream",
     "text": [
      "('Ayo Daniel',)\n",
      "UNISAIL4039\n"
     ]
    }
   ],
   "source": [
    "print(ayo.name)\n",
    "print(ayo.student_id)"
   ]
  },
  {
   "cell_type": "markdown",
   "id": "c8fd60b9",
   "metadata": {},
   "source": [
    "*more example*"
   ]
  },
  {
   "cell_type": "code",
   "execution_count": 6,
   "id": "ee48e16a",
   "metadata": {},
   "outputs": [],
   "source": [
    "class PhoneUser:\n",
    "    def __init__(self, name, network):\n",
    "        self.name = name,\n",
    "        self.network = network,\n",
    "        self.airtime = 0\n",
    "        print(f\"{self.name} joined {self.network} network\")\n",
    "\n",
    "    def buy_airtime(self, amount):\n",
    "        self.airtime += amount # self ensures it goes to the RIGHT person\n",
    "        return f\"{self.name} how has NGN{self.airtime} airtime\""
   ]
  },
  {
   "cell_type": "code",
   "execution_count": 7,
   "id": "7bbc90c7",
   "metadata": {},
   "outputs": [
    {
     "name": "stdout",
     "output_type": "stream",
     "text": [
      "('Abeeb Bakare',) joined ('MTN',) network\n",
      "('Onisemo Williams',) joined ('Airtel',) network\n"
     ]
    }
   ],
   "source": [
    "# creating multiple users\n",
    "abeeb = PhoneUser(\"Abeeb Bakare\", \"MTN\")\n",
    "onisemo = PhoneUser(\"Onisemo Williams\", \"Airtel\")"
   ]
  },
  {
   "cell_type": "code",
   "execution_count": null,
   "id": "df0ed560",
   "metadata": {},
   "outputs": [
    {
     "name": "stdout",
     "output_type": "stream",
     "text": [
      "('Abeeb Bakare',) how has NGN500 airtime\n",
      "('Onisemo Williams',) how has NGN1000 airtime\n",
      "500\n",
      "1000\n"
     ]
    }
   ],
   "source": [
    "# each person's actions affect only their own account\n",
    "print(abeeb.buy_airtime(500))       # abeeb now has N500 airtime\n",
    "print(onisemo.buy_airtime(1000))    # onisemo now has N1000 airitme\n",
    "print(abeeb.airtime)\n",
    "print(onisemo.airtime)"
   ]
  },
  {
   "cell_type": "markdown",
   "id": "1b2893d7",
   "metadata": {},
   "source": [
    "**Key Rules**\n",
    "1.  **init** always takes self as first parameter\n",
    "2.  All methods take self as first parameter\n",
    "3.  Never pass self manuall when calling methods\n",
    "4.  Use self inside methods to access object's attributes\n",
    "5.  self refers to the specific object being used"
   ]
  },
  {
   "cell_type": "markdown",
   "id": "b448c951",
   "metadata": {},
   "source": [
    "#### Attributes"
   ]
  },
  {
   "cell_type": "markdown",
   "id": "f7578bec",
   "metadata": {},
   "source": [
    "**What are Attributes?** Attributes are the characteristics, properties, or data that describe an object."
   ]
  }
 ],
 "metadata": {
  "kernelspec": {
   "display_name": "new_module",
   "language": "python",
   "name": "python3"
  },
  "language_info": {
   "codemirror_mode": {
    "name": "ipython",
    "version": 3
   },
   "file_extension": ".py",
   "mimetype": "text/x-python",
   "name": "python",
   "nbconvert_exporter": "python",
   "pygments_lexer": "ipython3",
   "version": "3.13.5"
  }
 },
 "nbformat": 4,
 "nbformat_minor": 5
}
