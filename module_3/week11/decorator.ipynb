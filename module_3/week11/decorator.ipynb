{
 "cells": [
  {
   "cell_type": "code",
   "execution_count": 2,
   "id": "6054bf36",
   "metadata": {},
   "outputs": [
    {
     "name": "stdout",
     "output_type": "stream",
     "text": [
      "Welcome to our shop!\n",
      "Shopkeeper says: Welcome to our shop!\n"
     ]
    }
   ],
   "source": [
    "def greet_customer():\n",
    "    return \"Welcome to our shop!\"\n",
    "\n",
    "# you can assign functions to variables\n",
    "my_greeting = greet_customer \n",
    "print(my_greeting())\n",
    "\n",
    "# you can pass function as arguments\n",
    "def use_greeting(greeting_func):\n",
    "    return f\"Shopkeeper says: {greeting_func()}\"\n",
    "\n",
    "print(use_greeting(greet_customer))\n",
    "\n",
    "# shopkeeper says: welcome to our shop!"
   ]
  },
  {
   "cell_type": "markdown",
   "id": "71da6b28",
   "metadata": {},
   "source": [
    "**first decorator**"
   ]
  },
  {
   "cell_type": "code",
   "execution_count": 3,
   "id": "1935cef9",
   "metadata": {},
   "outputs": [],
   "source": [
    "def add_nigerian_politeness(original_function):\n",
    "    \"\"\"this decorator adds Nigerian politeness to any greeting\"\"\"\n",
    "    def wrapper():\n",
    "        result = original_function()\n",
    "        return f\"Good morning ooo! {result} How is family?\"\n",
    "    return wrapper \n",
    "\n",
    "# original simple greeting\n",
    "def basic_greeting():\n",
    "    return \"Hello\""
   ]
  },
  {
   "cell_type": "code",
   "execution_count": 4,
   "id": "8b430e33",
   "metadata": {},
   "outputs": [
    {
     "name": "stdout",
     "output_type": "stream",
     "text": [
      "Good morning ooo! Hello How is family?\n"
     ]
    }
   ],
   "source": [
    "# apply the decorator manually\n",
    "polite_greeting = add_nigerian_politeness(basic_greeting)\n",
    "print(polite_greeting())"
   ]
  },
  {
   "cell_type": "code",
   "execution_count": 5,
   "id": "d7215833",
   "metadata": {},
   "outputs": [
    {
     "name": "stdout",
     "output_type": "stream",
     "text": [
      "Good morning ooo! Welcome to my provision store How is family?\n"
     ]
    }
   ],
   "source": [
    "# isomg tje @ symbol (syntactic sugar)\n",
    "@add_nigerian_politeness\n",
    "def shop_greeting():\n",
    "    return \"Welcome to my provision store\"\n",
    "\n",
    "print(shop_greeting())"
   ]
  },
  {
   "cell_type": "markdown",
   "id": "c00da93e",
   "metadata": {},
   "source": [
    "_more example 2_"
   ]
  },
  {
   "cell_type": "code",
   "execution_count": 6,
   "id": "45f44e65",
   "metadata": {},
   "outputs": [],
   "source": [
    "# this comes with arguments\n",
    "# sometimes you want to pass information to your decorators"
   ]
  },
  {
   "cell_type": "code",
   "execution_count": 8,
   "id": "a0b61fa6",
   "metadata": {},
   "outputs": [],
   "source": [
    "def add_nigerian_time_greeting(time_of_day):\n",
    "    \"\"\"Decorator that adds appropriate Nigerian greeting based on time\"\"\"\n",
    "    def decorator(original_function):\n",
    "        def wrapper():\n",
    "            if time_of_day == \"morning\":\n",
    "                greeting = \"Good morning ooo!\"\n",
    "            elif time_of_day == \"afternoon\":\n",
    "                greeting = \"good afternoon!\"\n",
    "            elif time_of_day == \"evening\":\n",
    "                greeting = \"good evening ooo!\"\n",
    "            else:\n",
    "                greeting = \"how far!\"\n",
    "\n",
    "            result = original_function()\n",
    "            return f\"{greeting} {result}\"\n",
    "        return wrapper \n",
    "    return decorator"
   ]
  },
  {
   "cell_type": "code",
   "execution_count": 9,
   "id": "a5f87bdc",
   "metadata": {},
   "outputs": [],
   "source": [
    "# using the decorator with different times\n",
    "@add_nigerian_time_greeting(\"morning\")\n",
    "def market_greeting():\n",
    "    return \"Welcome to our shop. How can we help you today?\""
   ]
  },
  {
   "cell_type": "code",
   "execution_count": 10,
   "id": "2f581147",
   "metadata": {},
   "outputs": [],
   "source": [
    "@add_nigerian_time_greeting(\"evening\")\n",
    "def restaurant_greeting():\n",
    "    return \"Welcome to our restaurant. What would you like to eat?\""
   ]
  },
  {
   "cell_type": "code",
   "execution_count": 11,
   "id": "53ec486b",
   "metadata": {},
   "outputs": [
    {
     "name": "stdout",
     "output_type": "stream",
     "text": [
      "Good morning ooo! Welcome to our shop. How can we help you today?\n",
      "good evening ooo! Welcome to our restaurant. What would you like to eat?\n"
     ]
    }
   ],
   "source": [
    "print(market_greeting())    # good morning ooo! welcome to our shop. how can we help you today?\n",
    "print(restaurant_greeting())    # good evening ooo! welcome to our restaurant. what would you like to eat"
   ]
  },
  {
   "cell_type": "markdown",
   "id": "5ae1073e",
   "metadata": {},
   "source": [
    "_more example 3_"
   ]
  },
  {
   "cell_type": "code",
   "execution_count": 13,
   "id": "86dc6479",
   "metadata": {},
   "outputs": [],
   "source": [
    "def naira_formatter(currency_symbol = \"NGN\"):\n",
    "    \"\"\"Decorator to format prices in Nigeran Naira\"\"\"\n",
    "    def decorator(price_function):\n",
    "        def wrapper(*args, **kwargs):\n",
    "            price = price_function(*args, **kwargs)\n",
    "            return f\"{currency_symbol}{price:,}\"\n",
    "        return wrapper \n",
    "    return decorator"
   ]
  },
  {
   "cell_type": "code",
   "execution_count": 14,
   "id": "abe70a30",
   "metadata": {},
   "outputs": [],
   "source": [
    "@naira_formatter(\"NGN\")\n",
    "def rice_price():\n",
    "    return 2500"
   ]
  },
  {
   "cell_type": "code",
   "execution_count": 15,
   "id": "1542f4c8",
   "metadata": {},
   "outputs": [],
   "source": [
    "@naira_formatter(\"NGN\")\n",
    "def calculate_transport_fare(distance_km):\n",
    "    base_fare = 200\n",
    "    per_km = 50\n",
    "    return base_fare + (distance_km * per_km)"
   ]
  },
  {
   "cell_type": "code",
   "execution_count": 16,
   "id": "c5da067f",
   "metadata": {},
   "outputs": [
    {
     "name": "stdout",
     "output_type": "stream",
     "text": [
      "NGN2,500\n",
      "NGN450\n"
     ]
    }
   ],
   "source": [
    "print(rice_price())\n",
    "print(calculate_transport_fare(5))"
   ]
  },
  {
   "cell_type": "code",
   "execution_count": null,
   "id": "40149f99",
   "metadata": {},
   "outputs": [],
   "source": []
  }
 ],
 "metadata": {
  "kernelspec": {
   "display_name": "new_module",
   "language": "python",
   "name": "python3"
  },
  "language_info": {
   "codemirror_mode": {
    "name": "ipython",
    "version": 3
   },
   "file_extension": ".py",
   "mimetype": "text/x-python",
   "name": "python",
   "nbconvert_exporter": "python",
   "pygments_lexer": "ipython3",
   "version": "3.13.5"
  }
 },
 "nbformat": 4,
 "nbformat_minor": 5
}
