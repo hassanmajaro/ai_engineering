{
 "cells": [
  {
   "cell_type": "code",
   "execution_count": null,
   "id": "dbf494af",
   "metadata": {
    "vscode": {
     "languageId": "plaintext"
    }
   },
   "outputs": [],
   "source": [
    "print (\"Hello World!\")"
   ]
  },
  {
   "cell_type": "markdown",
   "id": "fd193939",
   "metadata": {},
   "source": [
    "print (\"Hello World!\")"
   ]
  }
 ],
 "metadata": {
  "language_info": {
   "name": "python"
  }
 },
 "nbformat": 4,
 "nbformat_minor": 5
}
